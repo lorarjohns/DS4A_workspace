{
 "cells": [
  {
   "cell_type": "markdown",
   "metadata": {},
   "source": [
    "# Pre-Case Setup: Python, Jupyter Notebook, Git"
   ]
  },
  {
   "cell_type": "markdown",
   "metadata": {},
   "source": [
    "## Python and Jupyter "
   ]
  },
  {
   "cell_type": "markdown",
   "metadata": {},
   "source": [
    "Python is a general purpose programming language that allows for both simple and complex data analysis. Python is incredibly versatile, allowing analysts, consultants, engineers, and managers to obtain and analyze information for insightful decision-making.\n",
    "\n",
    "The Jupyter Notebook is an open-source web application that allows for Python code development. Jupyter further allows for inline plotting and provides useful mechanisms for viewing data that make it an excellent resource for a variety of projects and disciplines.\n",
    "\n",
    "The following section will outline how to install and begin working with Python and Juypter."
   ]
  },
  {
   "cell_type": "markdown",
   "metadata": {},
   "source": [
    "## Setting up the Python Environment"
   ]
  },
  {
   "cell_type": "markdown",
   "metadata": {},
   "source": [
    "Instruction guides for Windows and macOS are included below. Follow the one that corresponds with your operating system.\n",
    "\n",
    "### Windows Install:\n",
    "Step 1: Open browser and go to https://www.anaconda.com/distribution/\n",
    "\n",
    "Step 2: Click on \"Windows\" and then \"Download\" for Python 3.7 64-bit installer\n",
    "\n",
    "Step 3: Run the downloaded file found in the downloads section from Step 2\n",
    "\n",
    "Step 4: Click through the install prompts\n",
    "\n",
    "Step 5: Go to menu (or Windows Explorer), find the Anaconda3 folder, and double-click to run\n",
    "\n",
    "### macOS Install:\n",
    "Step 1: Open browser and go to https://www.anaconda.com/distribution/\n",
    "\n",
    "Step 2: Click on \"macOS\" and then \"Download\" for Python 3.7 64-bit installer\n",
    "\n",
    "Step 3: Run the downloaded file found in the downloads section from Step 2\n",
    "\n",
    "Step 4: Click through the install prompts\n",
    "\n",
    "Step 5: In Finder (or Launchpad), browse to the Anaconda3 folder to find the Jupyter program, and double-click to run"
   ]
  },
  {
   "cell_type": "markdown",
   "metadata": {},
   "source": [
    "## File Management with Python and Jupyter"
   ]
  },
  {
   "cell_type": "markdown",
   "metadata": {},
   "source": [
    "It is common practice to have a main folder where all projects will be located (e.g. \"jupyter_research\"). The following are guidelines you can use for Python projects to help keep your code organized and accessible:\n",
    "\n",
    "1. Create subfolders for each Jupyter-related project\n",
    "3. Group related .ipynb files together in the same folder\n",
    "2. It can be useful to create a \"Data\" folder within individual project folders if using a large number of related data files"
   ]
  },
  {
   "cell_type": "markdown",
   "metadata": {},
   "source": [
    "You should now be set up and ready to begin coding in Python!"
   ]
  },
  {
   "cell_type": "markdown",
   "metadata": {},
   "source": [
    "## Setting up Git, GitHub, and cloning a repository"
   ]
  },
  {
   "cell_type": "markdown",
   "metadata": {},
   "source": [
    "Git is a free and open source distributed version-control system. It is very useful for both simple software projects and large multi-functional projects that span thousands of files.  The main website for Git documentation is https://git-scm.com/. We will go over a brief introduction to Git here to get up and running with the software, in addition to understanding how its version control system operates. We'll create a new repository and also cover how to clone a repository from GitHub. GitHub is an online platform that hosts repositories for users to interact with on their own projects and collaborative projects.\n",
    "\n",
    "The following steps outline how to get started with Git, sign up for a GitHub account, create a repository, and clone a repository to your computer:"
   ]
  },
  {
   "cell_type": "markdown",
   "metadata": {},
   "source": [
    "Step 1: Open your browser and go to https://git-scm.com/downloads and download Git for your operating system\n",
    "\n",
    "Step 2: Create a new repository by browsing to the folder on your computer that you'd like to work under. From this folder, run the command: git init\n",
    "\n",
    "Step 3: Open your browser and go to https://github.com/ and sign up for a Github account\n",
    "\n",
    "Step 4: On GitHub, navigate to the main page of the repository you are interested in using. Note that when you create a repository on GitHub, it is a remote repository. We will clone a repository to create a local copy on your computer and we can then sync between the two locations when needed. Hence, we will have a local copy of the repository and a remote copy of the repository.\n",
    "\n",
    "Step 5: Under the repository name on Github, click clone or download\n",
    "\n",
    "Step 6: In the Clone with HTTPs section, copy the clone URL link\n",
    "\n",
    "Step 7: Open your command line and navigate to the current working directory to the location where you want the cloned directory to be made. Type and run the command: git clone https://github.com/YOUR-USERNAME/YOUR-REPOSITORY\n",
    "\n",
    "You should have now created your local clone repository. Let's cover some of the utilities available with Git."
   ]
  },
  {
   "cell_type": "markdown",
   "metadata": {},
   "source": [
    "## Understanding the Git workflow\n",
    "\n",
    "Git is a distributed version-control system. The Git workflow is built upon three objects managed by Git:\n",
    "1. Your working directory\n",
    "2. The index (staging area)\n",
    "3. The HEAD (points to your last commit)\n",
    "\n",
    "The central workflow with Git is to locally edit files on your staging area (updating the index) and commit the changes to your working directory (therefore updating the HEAD) when you are ready to save this version of your work to your repository. While you are editing the files in the staging area, you can of course save these files as you progress, however the files on your working directory will not have changed since you need to commit the changes. Hence, you essentially have two versions of files, one that you are editing, and one that is a snapshot from the previous commit.\n",
    "\n",
    "Let's go through a simple example of committing a change to some text file ```hello.txt```.\n",
    "\n",
    "Step 1: Create a text file hello.txt on your local computer in the folder you will be using Git from.\n",
    "\n",
    "Step 2: Edit the file to add one line to the text file. Say you add \"Hello World\" as the first line. Save the file.\n",
    "\n",
    "Step 3: Update your staging area (i.e. update the index). To do this, use the command: ```git add hello.txt```\n",
    "\n",
    "(If you have multiple files and you'd like to add all the files with changes in the folder to the staging area you can use the command: ```git add *```)\n",
    "\n",
    "Step 4: To commit the changes on the staging area to the working directory, use the command: ```git commit -m \"Commit message\"```\n",
    "\n",
    "(You should update the commit message to provide useful information. Do not neglect this as it can be very useful to have informative commit messages when debugging unexpected issues with your files)\n",
    "\n",
    "Step 5: Step 4 commits the file to the HEAD, but the remote repository will not update, so you've updated the HEAD of your local working copy. To push the changes to your remote repository, use the command: ```git push origin master```\n",
    "\n",
    "Furthermore, useful commands to check the status and history of your repository include:\n",
    "1. Command to check repository status: ```git status```\n",
    "2. Command to check history of repository: ```git log```"
   ]
  },
  {
   "cell_type": "markdown",
   "metadata": {},
   "source": [
    "This covers the basics of Git. While it takes considerable practice to master, we've covered the cloning, adding, committing, and pushing features that are the backbone of the Git version control software.\n",
    "\n",
    "We're ready to begin the case."
   ]
  },
  {
   "cell_type": "markdown",
   "metadata": {},
   "source": [
    "# Identifying Expansion Opportunities for Luxury Commercial Airline Flights"
   ]
  },
  {
   "cell_type": "markdown",
   "metadata": {},
   "source": [
    "## Case Introduction"
   ]
  },
  {
   "cell_type": "markdown",
   "metadata": {},
   "source": [
    "**Business Context.** You are an employee for GrowthAir, a growing commercial airline company. In the past few years, GrowthAir has expanded luxury flight services to locations across the globe. Following your team's excellent performance in identifying new business opportunities last year, you have been tasked with identifying the top countries to further expand GrowthAir's luxury flight service."
   ]
  },
  {
   "cell_type": "markdown",
   "metadata": {},
   "source": [
    "**Business Problem.** Your manager has asked you to answer the following question: <b>\"In which countries should GrowthAir expand its luxury flight service?\"</b>"
   ]
  },
  {
   "cell_type": "markdown",
   "metadata": {},
   "source": [
    "**Analytical Context.** The relevant data is a series of success estimates (i.e. probabilities of success) that your internal marketing research teams have come up with. Using your ability to conduct data analysis in Python, you will embark on summarizing the available success estimates to produce a concise recommendation to your boss."
   ]
  },
  {
   "cell_type": "markdown",
   "metadata": {},
   "source": [
    "## Fundamentals of Python"
   ]
  },
  {
   "cell_type": "markdown",
   "metadata": {},
   "source": [
    "Python is an interpreted, high-level general programming language that was first released in 1991. Python allows users to easily manipulate data and store values in what are known as <b>objects</b>. Everything in Python is an object and has a <b>type</b>. For example, if a user aims to store the integer 5 in an object named ```my_int```, this can be accomplished by the statement, ```my_int = 5```. This statement tells Python to assign the integer value of 5 to the **variable** ```my_int``` (called a variable here because it can change value). ```my_int``` is a Python object, and has type ```int```.\n",
    "\n",
    "Similar to how Excel distinguishes different data types (such as Text, Number, Currency, Scientific), Python offers a variety of data types. Here are a few common data types:\n",
    "\n",
    "1. Integers, type ```int```: ```my_int = 1```\n",
    "2. Float type ```float```: ```my_float = 25.5```\n",
    "3. Strings, type ```str```: ```my_string = 'Hello'```\n",
    "\n",
    "Here we see (1) <b>integers</b> and (2) <b>floats</b> store numeric data.  The difference between the two is that floats store decimal variables, whereas the integer type can only store integer variables. (3) is the <b>string</b> type. Strings are used to store textual data in Python. This case will use string variables to store country names. They are often used to store identifiers such as person names, city names, and more.\n",
    "\n",
    "There are other data types available in Python; however, these are the three fundamental types that you will see across almost every Python program. Always keep in mind that **every** object in Python has a type.\n",
    "\n",
    "Now that we've covered the fundamentals of Python, let's take a look at GrowthAir's proprietary company data on country success estimates."
   ]
  },
  {
   "cell_type": "markdown",
   "metadata": {},
   "source": [
    "## Exploring company data on success estimates"
   ]
  },
  {
   "cell_type": "markdown",
   "metadata": {},
   "source": [
    "Let's take a look at a common data structure used to hold your company's proprietary data on estimates of probability of success for global expansion projects by country.  The ```success_estimates``` variable below is a Python dictionary, which is being assigned certain data using the ```'='``` <b>assignment operator</b>. Each estimate here is a number (float) between 0 and 1, inclusive, which represents the probability that expanding to that country will be successful.\n",
    "\n",
    "Python's dictionary type stores key-value pairs that allow users to quickly access information for a particular key. By specifying a key, the user can return the value corresponding to the given key. Python's syntax for dictionaries uses curly braces {},\n",
    "\n",
    "```python\n",
    "user_dictionary = {'Key1':Value1, 'Key2':Value2, 'Key3':Value3}\n",
    "```\n",
    "\n",
    "The ```success_estimates``` dictionary has keys which are strings, and values which are of type <b>list</b>. A <b>list</b> is an incredibly useful data structure in Python that can store any number of Python objects, and are denoted by the use of square brackets ```[]```. In ```success_estimates``` below, the list contains float types. Lists are versatile and can be expanded by adding new elements to the end of the list (the right-most side is considered the end of the list). Moreover, list elements (i.e. the objects in the list) can be accessed easily using integer indices. Interestingly, lists can also store other lists (called a lists of lists).  This makes them a powerful tool for holding complex data sets.\n",
    "\n",
    "Let's take a look at the ```success_estimates``` data:"
   ]
  },
  {
   "cell_type": "code",
   "execution_count": 1,
   "metadata": {},
   "outputs": [],
   "source": [
    "# Data on probability of expansion success by country estimates\n",
    "success_estimates = {'Australia': [0.6, 0.33, 0.11, 0.14],\n",
    "                     'France': [0.66, 0.78, 0.98, 0.2],\n",
    "                     'Italy': [0.6],\n",
    "                     'Brazil': [0.22, 0.22, 0.43],\n",
    "                     'USA': [0.2, 0.5, 0.3],\n",
    "                     'England': [0.45],\n",
    "                     'Canada': [0.25, 0.3],\n",
    "                     'Argentina': [0.22],\n",
    "                     'Greece': [0.45, 0.66, 0.75, 0.99, 0.15, 0.66],\n",
    "                     'Morocco': [0.29],\n",
    "                     'Tunisia': [0.68, 0.56],\n",
    "                     'Egypt': [0.99],\n",
    "                     'Jamaica': [0.61, 0.65, 0.71],\n",
    "                     'Switzerland': [0.73, 0.86, 0.84, 0.51, 0.99],\n",
    "                     'Germany': [0.45, 0.49, 0.36]}"
   ]
  },
  {
   "cell_type": "markdown",
   "metadata": {},
   "source": [
    "Python easily allows you to print the elements stored in any variable to the screen using the ```print()``` statement:"
   ]
  },
  {
   "cell_type": "code",
   "execution_count": 2,
   "metadata": {
    "scrolled": true
   },
   "outputs": [
    {
     "name": "stdout",
     "output_type": "stream",
     "text": [
      "{'Australia': [0.6, 0.33, 0.11, 0.14], 'France': [0.66, 0.78, 0.98, 0.2], 'Italy': [0.6], 'Brazil': [0.22, 0.22, 0.43], 'USA': [0.2, 0.5, 0.3], 'England': [0.45], 'Canada': [0.25, 0.3], 'Argentina': [0.22], 'Greece': [0.45, 0.66, 0.75, 0.99, 0.15, 0.66], 'Morocco': [0.29], 'Tunisia': [0.68, 0.56], 'Egypt': [0.99], 'Jamaica': [0.61, 0.65, 0.71], 'Switzerland': [0.73, 0.86, 0.84, 0.51, 0.99], 'Germany': [0.45, 0.49, 0.36]}\n"
     ]
    }
   ],
   "source": [
    "print(success_estimates)"
   ]
  },
  {
   "cell_type": "markdown",
   "metadata": {},
   "source": [
    "Notice the re-ordering of the dictonary elements when we print compared to the order in which we originally defined the dictionary. This is a key aspect of dictionary data types – they are unordered! (This is very different compared to list data types, which are ordered. More on this later.)\n",
    "\n",
    "** https://stackoverflow.com/questions/39980323/are-dictionaries-ordered-in-python-3-6 **\n",
    "\n",
    "Now intuitively, we would like to recommend that the business put effort into the country with the highest success estimate. But what does this mean when there are multiple success estimates for some countries, and only one for others? We will explore this next."
   ]
  },
  {
   "cell_type": "markdown",
   "metadata": {},
   "source": [
    "## Interacting with dictionaries and lists"
   ]
  },
  {
   "cell_type": "markdown",
   "metadata": {},
   "source": [
    "Taking a careful look at the ```success_estimates``` dictionary, you notice some countries only have one success estimate, while others have many. For example, England has only one estimate contained in its list [0.45], while Jamaica has three estimates contained in its list [0.61, 0.65, 0.71]. Let's zoom in on Jamaica and take a look at some summary statistics of the estimates.\n",
    "\n",
    "In Python, the dictionary type has built-in methods (functions, which we will discuss later) to access the dictionary keys and values. These methods are called by typing ```.keys()``` or ```.values()``` after the dictonary object. We will change the return type of calling ```.keys()``` and ```.values()``` to a list by using the ```list()``` method."
   ]
  },
  {
   "cell_type": "code",
   "execution_count": 3,
   "metadata": {},
   "outputs": [
    {
     "data": {
      "text/plain": [
       "['Australia',\n",
       " 'France',\n",
       " 'Italy',\n",
       " 'Brazil',\n",
       " 'USA',\n",
       " 'England',\n",
       " 'Canada',\n",
       " 'Argentina',\n",
       " 'Greece',\n",
       " 'Morocco',\n",
       " 'Tunisia',\n",
       " 'Egypt',\n",
       " 'Jamaica',\n",
       " 'Switzerland',\n",
       " 'Germany']"
      ]
     },
     "execution_count": 3,
     "metadata": {},
     "output_type": "execute_result"
    }
   ],
   "source": [
    "# Look at the keys...\n",
    "list(success_estimates.keys())"
   ]
  },
  {
   "cell_type": "code",
   "execution_count": 4,
   "metadata": {},
   "outputs": [
    {
     "data": {
      "text/plain": [
       "[[0.6, 0.33, 0.11, 0.14],\n",
       " [0.66, 0.78, 0.98, 0.2],\n",
       " [0.6],\n",
       " [0.22, 0.22, 0.43],\n",
       " [0.2, 0.5, 0.3],\n",
       " [0.45],\n",
       " [0.25, 0.3],\n",
       " [0.22],\n",
       " [0.45, 0.66, 0.75, 0.99, 0.15, 0.66],\n",
       " [0.29],\n",
       " [0.68, 0.56],\n",
       " [0.99],\n",
       " [0.61, 0.65, 0.71],\n",
       " [0.73, 0.86, 0.84, 0.51, 0.99],\n",
       " [0.45, 0.49, 0.36]]"
      ]
     },
     "execution_count": 4,
     "metadata": {},
     "output_type": "execute_result"
    }
   ],
   "source": [
    "# ...and their corresponding values\n",
    "list(success_estimates.values())"
   ]
  },
  {
   "cell_type": "markdown",
   "metadata": {},
   "source": [
    "We will make use of the access to keys and values of a dictionary later in the case when comparing across numerous countries' estimates. For now, just remember that you can access a dictionary's full list of keys or values simply by calling built-in methods."
   ]
  },
  {
   "cell_type": "markdown",
   "metadata": {},
   "source": [
    "We'd also like to check if a country name is one the keys in the dictionary. Python allows us to check if a key is in a dictionary through the use of the ```in``` keyword. The statement ```key in dictionary``` will return a <b>boolean type</b> of ```True``` if the key is one of the keys in the dictionary and ```False``` otherwise. Let's take a look at how this works."
   ]
  },
  {
   "cell_type": "code",
   "execution_count": 5,
   "metadata": {},
   "outputs": [
    {
     "name": "stdout",
     "output_type": "stream",
     "text": [
      "Checking if Morocco key is present:\n",
      "True\n",
      "Checking if Japan key is present:\n",
      "False\n"
     ]
    }
   ],
   "source": [
    "print('Checking if Morocco key is present:')\n",
    "print('Morocco' in success_estimates)\n",
    "\n",
    "print('Checking if Japan key is present:')\n",
    "print('Japan' in success_estimates)"
   ]
  },
  {
   "cell_type": "markdown",
   "metadata": {},
   "source": [
    "We'd now like to access the value corresponding to a specific key in the ```success_estimates``` dictionary. Simply type the value name in square brackets adjacent to the dictionary name. For example, ```success_estimates['Jamaica']``` will return Jamaica's list of estimates:"
   ]
  },
  {
   "cell_type": "code",
   "execution_count": 6,
   "metadata": {},
   "outputs": [
    {
     "data": {
      "text/plain": [
       "[0.61, 0.65, 0.71]"
      ]
     },
     "execution_count": 6,
     "metadata": {},
     "output_type": "execute_result"
    }
   ],
   "source": [
    "success_estimates['Jamaica'] "
   ]
  },
  {
   "cell_type": "markdown",
   "metadata": {},
   "source": [
    "If you would like to store the result in a variable to be used later, use the assignment operator ```'='```:"
   ]
  },
  {
   "cell_type": "code",
   "execution_count": 7,
   "metadata": {},
   "outputs": [],
   "source": [
    "jamaica_list = success_estimates['Jamaica'] "
   ]
  },
  {
   "cell_type": "markdown",
   "metadata": {},
   "source": [
    "You can then view the contents of the list via the ```print()``` method:"
   ]
  },
  {
   "cell_type": "code",
   "execution_count": 8,
   "metadata": {},
   "outputs": [
    {
     "name": "stdout",
     "output_type": "stream",
     "text": [
      "[0.61, 0.65, 0.71]\n"
     ]
    }
   ],
   "source": [
    "print(jamaica_list)"
   ]
  },
  {
   "cell_type": "markdown",
   "metadata": {},
   "source": [
    "Here, you'll see that the order of the elements in the Jamaica list is the same as what was originally defined above. This is because lists are ordered objects. In fact, you can access elements of a list by an <i>index</i>. In Python, indices start at 0 (for the first element of a given list) and increment by 1 for each successive element. For example, let's print each element of the Jamaica list:"
   ]
  },
  {
   "cell_type": "code",
   "execution_count": 9,
   "metadata": {},
   "outputs": [
    {
     "name": "stdout",
     "output_type": "stream",
     "text": [
      "0.61\n",
      "0.65\n",
      "0.71\n"
     ]
    }
   ],
   "source": [
    "# Each successive print statement will print on a new line\n",
    "print(jamaica_list[0]) # prints the first element of the list\n",
    "print(jamaica_list[1]) # prints the second element of the list\n",
    "print(jamaica_list[2]) # prints the third element of the list"
   ]
  },
  {
   "cell_type": "markdown",
   "metadata": {},
   "source": [
    "Python also offers a simple way to determine the length of a list: the ```len()``` method. We expect the length of ```jamaica_list``` to be 3 since it has three elements:"
   ]
  },
  {
   "cell_type": "code",
   "execution_count": 10,
   "metadata": {
    "scrolled": true
   },
   "outputs": [
    {
     "data": {
      "text/plain": [
       "3"
      ]
     },
     "execution_count": 10,
     "metadata": {},
     "output_type": "execute_result"
    }
   ],
   "source": [
    "len(jamaica_list) # returns the length of the list"
   ]
  },
  {
   "cell_type": "markdown",
   "metadata": {},
   "source": [
    "### Exercise 1:\n",
    "\n",
    "Print the length of the success estimate lists for France, Greece, and Morocco."
   ]
  },
  {
   "cell_type": "code",
   "execution_count": 12,
   "metadata": {},
   "outputs": [
    {
     "name": "stdout",
     "output_type": "stream",
     "text": [
      "[4, 6, 1]\n"
     ]
    }
   ],
   "source": [
    "print([len(success_estimates[key]) for key in ['France', 'Greece', 'Morocco']])"
   ]
  },
  {
   "cell_type": "markdown",
   "metadata": {},
   "source": [
    "**Answer.** One possible solution is shown below:"
   ]
  },
  {
   "cell_type": "code",
   "execution_count": 11,
   "metadata": {},
   "outputs": [
    {
     "name": "stdout",
     "output_type": "stream",
     "text": [
      "Number of estimates for France:\n",
      "4\n",
      "Number of estimates for Greece:\n",
      "6\n",
      "Number of estimates for Morocco:\n",
      "1\n"
     ]
    }
   ],
   "source": [
    "print('Number of estimates for France:')\n",
    "print(len(success_estimates['France']))\n",
    "\n",
    "print('Number of estimates for Greece:')\n",
    "print(len(success_estimates['Greece']))\n",
    "\n",
    "print('Number of estimates for Morocco:')\n",
    "print(len(success_estimates['Morocco']))"
   ]
  },
  {
   "cell_type": "markdown",
   "metadata": {},
   "source": [
    "### Exercise 2:\n",
    "\n",
    "Which of the following would be useful to store project success estimates if they were available at a regional level instead of a country level?\n",
    "\n",
    "(a) List\n",
    "\n",
    "(b) Dictionary\n",
    "\n",
    "(c) Float\n",
    "\n",
    "(d) String\n",
    "\n",
    "**Answer.** (b).\n",
    "\n",
    "(a) Python lists store data in a an ordered manner, where each element of a list can be of any type.  There is no mapping between keys and values in Python lists, rather list elements are accessed using integer indices. Lists are commonly used to group related data together for further processing. In this case, the regional level data would still consist of key-value pairs (where the keys are the region names), so lists are not ideal.\n",
    "\n",
    "(b) B is the correct answer since dictionaries use a key-value pair to represent data. They are fast to access and are unordered. Dictionaries are especially useful when data is being accessed by a commonly used identifier, such as country names used in this case, or region names as indicated in this example.\n",
    "\n",
    "(c) Floats are used to represent numeric data, hence are not used for mapping keys to values.\n",
    "\n",
    "(d) Strings are used to represent textual data. While they are often used as the keys in a dictionary, the strings themselves are not built for storing key-value pairs of any kind."
   ]
  },
  {
   "cell_type": "markdown",
   "metadata": {},
   "source": [
    "Now that we're familiar with using lists and know that lists are ordered data structures while dictionaries are unordered data structures, let's begin to compare success estimates across countries."
   ]
  },
  {
   "cell_type": "markdown",
   "metadata": {},
   "source": [
    "## Calculating a country-specific average success estimate"
   ]
  },
  {
   "cell_type": "markdown",
   "metadata": {},
   "source": [
    "Continuing our analysis on Jamaica, the list contains three numbers, [0.61, 0.65, 0.71]. Recall these number are of type ```float``` in Python, which stores numeric decimal values. One logical way to summarize these estimates so that they can be compared across countries is to use the arithmetic average. Let's use basic arthimetic operators to calculate the average success estimate for Jamaica, storing the result in a new variable ```avg_jamaica```:"
   ]
  },
  {
   "cell_type": "code",
   "execution_count": 12,
   "metadata": {},
   "outputs": [
    {
     "name": "stdout",
     "output_type": "stream",
     "text": [
      "0.6566666666666666\n"
     ]
    }
   ],
   "source": [
    "avg_jamaica = (0.61 + 0.65 + 0.71) / 3\n",
    "print(avg_jamaica)"
   ]
  },
  {
   "cell_type": "markdown",
   "metadata": {},
   "source": [
    "We see the average probability of success estimate for Jamaica is approximately 0.657.  However, we produced this estimate by hand-coding the values. If we were to do this for every country, it would take quite a long time. So we'd like to use a more automated way of producing the average."
   ]
  },
  {
   "cell_type": "markdown",
   "metadata": {},
   "source": [
    "To produce an average we can utilize a <b>function</b>. Functions operate on data and variables in Python to perform a desired action. Functions may have both <b>inputs</b> and <b>outputs</b>, just like familiar mathematical operators like addition, subtraction, multiplication, and division (which each have two inputs and one output). While functions in Python may still be for a mathematical purpose, such as squaring an integer, Python allows for more abstract function behaviour, such as printing to the screen. In this case, the ```print()``` function will print its input to the screen."
   ]
  },
  {
   "cell_type": "markdown",
   "metadata": {},
   "source": [
    "Let's use Python's built-in mathematical functions ```sum()```, ```min()```, and ```max()``` to calculate Jamaica's average success estimate, minimum success estimate, and maximum success estimate, respectively:"
   ]
  },
  {
   "cell_type": "code",
   "execution_count": 13,
   "metadata": {
    "scrolled": true
   },
   "outputs": [
    {
     "name": "stdout",
     "output_type": "stream",
     "text": [
      "[0.61, 0.65, 0.71]\n"
     ]
    }
   ],
   "source": [
    "country_name = 'Jamaica'\n",
    "jamaica_list = success_estimates[country_name] # list of the estimates for Jamaica\n",
    "print(jamaica_list)"
   ]
  },
  {
   "cell_type": "code",
   "execution_count": 14,
   "metadata": {},
   "outputs": [
    {
     "name": "stdout",
     "output_type": "stream",
     "text": [
      "Country: Jamaica , Average: 0.6566666666666666\n",
      "Country: Jamaica , Min: 0.61\n",
      "Country: Jamaica , Max: 0.71\n"
     ]
    }
   ],
   "source": [
    "avg_jamaica = sum(jamaica_list) / len(jamaica_list)\n",
    "min_jamaica = min(jamaica_list)\n",
    "max_jamaica = max(jamaica_list)\n",
    "print(\"Country:\",country_name,\", Average:\",avg_jamaica)\n",
    "print(\"Country:\",country_name,\", Min:\",min_jamaica)\n",
    "print(\"Country:\",country_name,\", Max:\",max_jamaica)"
   ]
  },
  {
   "cell_type": "markdown",
   "metadata": {},
   "source": [
    "As expected, we get the same average result of approximately 0.657. Note that we could also have rounded the results to two decimal places using the ```round()``` method. This can improve readability."
   ]
  },
  {
   "cell_type": "code",
   "execution_count": 15,
   "metadata": {},
   "outputs": [
    {
     "name": "stdout",
     "output_type": "stream",
     "text": [
      "Country: Jamaica , Average: 0.66\n",
      "Country: Jamaica , Min: 0.61\n",
      "Country: Jamaica , Max: 0.71\n"
     ]
    }
   ],
   "source": [
    "avg_jamaica = round(sum(jamaica_list) / len(jamaica_list),2)\n",
    "min_jamaica = round(min(jamaica_list),2)\n",
    "max_jamaica = round(max(jamaica_list),2)\n",
    "print(\"Country:\",country_name,\", Average:\",avg_jamaica)\n",
    "print(\"Country:\",country_name,\", Min:\",min_jamaica)\n",
    "print(\"Country:\",country_name,\", Max:\",max_jamaica)"
   ]
  },
  {
   "cell_type": "markdown",
   "metadata": {},
   "source": [
    "Functions in Python are a very powerful tool to increase productivity and perform more complex tasks."
   ]
  },
  {
   "cell_type": "markdown",
   "metadata": {},
   "source": [
    "### Exercise 3:\n",
    "\n",
    "Write a script to calculate the average success for every country. Output (using ```print()```) each country's average success estimate to the screen. The print statements should output each country on a new line, for example:\n",
    "```\n",
    "Country: France , Average: 0.655\n",
    "Country: Brazil , Average: 0.29\n",
    "```"
   ]
  },
  {
   "cell_type": "code",
   "execution_count": 16,
   "metadata": {},
   "outputs": [
    {
     "name": "stdout",
     "output_type": "stream",
     "text": [
      "Country: France , Average: 0.655\n",
      "Country: Brazil , Average: 0.29\n",
      "Country: Argentina , Average: 0.22\n",
      "Country: Germany , Average: 0.4333333333333333\n",
      "Country: Australia , Average: 0.29500000000000004\n",
      "Country: Canada , Average: 0.275\n",
      "Country: Greece , Average: 0.61\n",
      "Country: USA , Average: 0.3333333333333333\n",
      "Country: Switzerland , Average: 0.7859999999999999\n",
      "Country: Tunisia , Average: 0.6200000000000001\n",
      "Country: Italy , Average: 0.6\n",
      "Country: Egypt , Average: 0.99\n",
      "Country: Jamaica , Average: 0.6566666666666666\n",
      "Country: Morocco , Average: 0.29\n",
      "Country: England , Average: 0.45\n"
     ]
    }
   ],
   "source": [
    "# One possible solution\n",
    "print(\"Country:\",'France',\", Average:\",sum(success_estimates['France']) / len(success_estimates['France']))\n",
    "print(\"Country:\",'Brazil',\", Average:\",sum(success_estimates['Brazil']) / len(success_estimates['Brazil']))\n",
    "print(\"Country:\",'Argentina',\", Average:\",sum(success_estimates['Argentina']) / len(success_estimates['Argentina']))\n",
    "print(\"Country:\",'Germany',\", Average:\",sum(success_estimates['Germany']) / len(success_estimates['Germany']))\n",
    "print(\"Country:\",'Australia',\", Average:\",sum(success_estimates['Australia']) / len(success_estimates['Australia']))\n",
    "print(\"Country:\",'Canada',\", Average:\",sum(success_estimates['Canada']) / len(success_estimates['Canada']))\n",
    "print(\"Country:\",'Greece',\", Average:\",sum(success_estimates['Greece']) / len(success_estimates['Greece']))\n",
    "print(\"Country:\",'USA',\", Average:\",sum(success_estimates['USA']) / len(success_estimates['USA']))\n",
    "print(\"Country:\",'Switzerland',\", Average:\",sum(success_estimates['Switzerland']) / len(success_estimates['Switzerland']))\n",
    "print(\"Country:\",'Tunisia',\", Average:\",sum(success_estimates['Tunisia']) /len(success_estimates['Tunisia']))\n",
    "print(\"Country:\",'Italy',\", Average:\",sum(success_estimates['Italy']) / len(success_estimates['Italy']))\n",
    "print(\"Country:\",'Egypt',\", Average:\",sum(success_estimates['Egypt']) / len(success_estimates['Egypt']))\n",
    "print(\"Country:\",'Jamaica',\", Average:\",sum(success_estimates['Jamaica']) / len(success_estimates['Jamaica']))\n",
    "print(\"Country:\",'Morocco',\", Average:\",sum(success_estimates['Morocco']) / len(success_estimates['Morocco']))\n",
    "print(\"Country:\",'England',\", Average:\",sum(success_estimates['England']) / len(success_estimates['England']))"
   ]
  },
  {
   "cell_type": "markdown",
   "metadata": {},
   "source": [
    "## Systematically determine the average success estimate for all of the countries"
   ]
  },
  {
   "cell_type": "markdown",
   "metadata": {},
   "source": [
    "The end goal of this analysis is a recommendation for where global expansion opportunities should be considered. To reach a conclusion, it'd be ideal to have the average success probability for each country.\n",
    "\n",
    "To achieve this, we will use a control flow element in Python -  the <b>for loop</b>.  The ```for``` loop allows one to execute the same statements over and over again (i.e. looping). This saves a significant amount of time coding repetitive tasks and aids in code readability.  The general structure of a for loop is:\n",
    "\n",
    "```python\n",
    "for iterator_variable in some_sequence:\n",
    "    statements(s)\n",
    "```\n",
    "\n",
    "The for loop iterates over ```some_sequence``` and performs ```statements(s)``` at each iteration. That is, at each iteration the ```iterator_variable```  is updated to the next value in ```some_sequence```. As a concrete example, consider the loop:\n",
    "\n",
    "```python\n",
    "for i in [1,2,3,4]:\n",
    "    print(i*i)\n",
    "```\n",
    "\n",
    "Here, the for loop will print to the screen four times; that is it will print ```1``` on the first iteration of the loop, ```4``` on the second iteration, ```9``` on the third, and ```16``` on the fourth. Hence, the for loop statement will iterate over all the elements of the list ```[1,2,3,4]```, and at each iteration it updates the iterator variable ```i``` to the next value in the list ```[1,2,3,4]```.\n",
    "\n",
    "Let's use a for loop on our country data by getting a list of all the keys in ```success_estimates```:"
   ]
  },
  {
   "cell_type": "code",
   "execution_count": 17,
   "metadata": {},
   "outputs": [
    {
     "name": "stdout",
     "output_type": "stream",
     "text": [
      "['Australia', 'France', 'Italy', 'Brazil', 'USA', 'England', 'Canada', 'Argentina', 'Greece', 'Morocco', 'Tunisia', 'Egypt', 'Jamaica', 'Switzerland', 'Germany']\n"
     ]
    }
   ],
   "source": [
    "# Get all the keys from the success_estimates dictionary\n",
    "country_name_list = list(success_estimates.keys())\n",
    "print(country_name_list)"
   ]
  },
  {
   "cell_type": "markdown",
   "metadata": {},
   "source": [
    "Here we loop through all the elements in ```country_name_list```, extract the corresponding value from ```success_estimates``` (which will be of type list), and subsequently take the mean of the list. Detailed printing will guide you through the for loop execution."
   ]
  },
  {
   "cell_type": "code",
   "execution_count": 18,
   "metadata": {
    "scrolled": false
   },
   "outputs": [
    {
     "name": "stdout",
     "output_type": "stream",
     "text": [
      "--Begin one iteration of loop--\n",
      "Element of country_name_list, placeholder i = Australia\n",
      "Access value from dict success_estimates[i]:  [0.6, 0.33, 0.11, 0.14]\n",
      "Average of list from success_estimates[i]:  0.29500000000000004\n",
      "--Go to next iteration of loop--\n",
      "--Begin one iteration of loop--\n",
      "Element of country_name_list, placeholder i = France\n",
      "Access value from dict success_estimates[i]:  [0.66, 0.78, 0.98, 0.2]\n",
      "Average of list from success_estimates[i]:  0.655\n",
      "--Go to next iteration of loop--\n",
      "--Begin one iteration of loop--\n",
      "Element of country_name_list, placeholder i = Italy\n",
      "Access value from dict success_estimates[i]:  [0.6]\n",
      "Average of list from success_estimates[i]:  0.6\n",
      "--Go to next iteration of loop--\n",
      "--Begin one iteration of loop--\n",
      "Element of country_name_list, placeholder i = Brazil\n",
      "Access value from dict success_estimates[i]:  [0.22, 0.22, 0.43]\n",
      "Average of list from success_estimates[i]:  0.29\n",
      "--Go to next iteration of loop--\n",
      "--Begin one iteration of loop--\n",
      "Element of country_name_list, placeholder i = USA\n",
      "Access value from dict success_estimates[i]:  [0.2, 0.5, 0.3]\n",
      "Average of list from success_estimates[i]:  0.3333333333333333\n",
      "--Go to next iteration of loop--\n",
      "--Begin one iteration of loop--\n",
      "Element of country_name_list, placeholder i = England\n",
      "Access value from dict success_estimates[i]:  [0.45]\n",
      "Average of list from success_estimates[i]:  0.45\n",
      "--Go to next iteration of loop--\n",
      "--Begin one iteration of loop--\n",
      "Element of country_name_list, placeholder i = Canada\n",
      "Access value from dict success_estimates[i]:  [0.25, 0.3]\n",
      "Average of list from success_estimates[i]:  0.275\n",
      "--Go to next iteration of loop--\n",
      "--Begin one iteration of loop--\n",
      "Element of country_name_list, placeholder i = Argentina\n",
      "Access value from dict success_estimates[i]:  [0.22]\n",
      "Average of list from success_estimates[i]:  0.22\n",
      "--Go to next iteration of loop--\n",
      "--Begin one iteration of loop--\n",
      "Element of country_name_list, placeholder i = Greece\n",
      "Access value from dict success_estimates[i]:  [0.45, 0.66, 0.75, 0.99, 0.15, 0.66]\n",
      "Average of list from success_estimates[i]:  0.61\n",
      "--Go to next iteration of loop--\n",
      "--Begin one iteration of loop--\n",
      "Element of country_name_list, placeholder i = Morocco\n",
      "Access value from dict success_estimates[i]:  [0.29]\n",
      "Average of list from success_estimates[i]:  0.29\n",
      "--Go to next iteration of loop--\n",
      "--Begin one iteration of loop--\n",
      "Element of country_name_list, placeholder i = Tunisia\n",
      "Access value from dict success_estimates[i]:  [0.68, 0.56]\n",
      "Average of list from success_estimates[i]:  0.6200000000000001\n",
      "--Go to next iteration of loop--\n",
      "--Begin one iteration of loop--\n",
      "Element of country_name_list, placeholder i = Egypt\n",
      "Access value from dict success_estimates[i]:  [0.99]\n",
      "Average of list from success_estimates[i]:  0.99\n",
      "--Go to next iteration of loop--\n",
      "--Begin one iteration of loop--\n",
      "Element of country_name_list, placeholder i = Jamaica\n",
      "Access value from dict success_estimates[i]:  [0.61, 0.65, 0.71]\n",
      "Average of list from success_estimates[i]:  0.6566666666666666\n",
      "--Go to next iteration of loop--\n",
      "--Begin one iteration of loop--\n",
      "Element of country_name_list, placeholder i = Switzerland\n",
      "Access value from dict success_estimates[i]:  [0.73, 0.86, 0.84, 0.51, 0.99]\n",
      "Average of list from success_estimates[i]:  0.7859999999999999\n",
      "--Go to next iteration of loop--\n",
      "--Begin one iteration of loop--\n",
      "Element of country_name_list, placeholder i = Germany\n",
      "Access value from dict success_estimates[i]:  [0.45, 0.49, 0.36]\n",
      "Average of list from success_estimates[i]:  0.4333333333333333\n",
      "--Go to next iteration of loop--\n"
     ]
    }
   ],
   "source": [
    "# Loop through all countries and calculate their mean success estimate\n",
    "for i in country_name_list:\n",
    "    print('--Begin one iteration of loop--')\n",
    "    print('Element of country_name_list, placeholder i = ' + i)\n",
    "    print('Access value from dict success_estimates[i]: ', success_estimates[i])\n",
    "    print('Average of list from success_estimates[i]: ', sum(success_estimates[i]) / len(success_estimates[i]))\n",
    "    print('--Go to next iteration of loop--')"
   ]
  },
  {
   "cell_type": "markdown",
   "metadata": {},
   "source": [
    "Let's take a closer look at the above ```for``` loop. The ```country_name_list``` has 15 countries which the ```for``` loop is iterating over. The ```for``` loop uses a placeholder variable, denoted ```i``` in this case, to store the element of ```country_name_list``` that each loop iteration corresponds to. Namely, for the first iteration of the ```for``` loop, ```i = 'Brazil'```. For the second iteration, ```i = 'Canada'```. And so on until the loop reaches the final element of ```country_name_list```, which it then completes and exits the looping process.\n",
    "\n",
    "Why is this looping process useful? Well, we've performed the same calculation statements 15 times while only writing the code once! Notice that for each iteration, the corresponding value from ```success_estimates``` is accessed, and the mean of the returned list is calculated. The ```for``` loop process also enhances code readability."
   ]
  },
  {
   "cell_type": "markdown",
   "metadata": {},
   "source": [
    "### Exercise 4:\n",
    "\n",
    "Write a for loop to instead calculate the minimum and maximum of each country's list of success estimates, printing each out consecutively as in the for loop example above."
   ]
  },
  {
   "cell_type": "code",
   "execution_count": 14,
   "metadata": {},
   "outputs": [
    {
     "name": "stdout",
     "output_type": "stream",
     "text": [
      "Minimum estimate for Australia: 0.11\n",
      "Maximum estimate for Australia: 0.6\n",
      "\n",
      "Minimum estimate for France: 0.2\n",
      "Maximum estimate for France: 0.98\n",
      "\n",
      "Minimum estimate for Italy: 0.6\n",
      "Maximum estimate for Italy: 0.6\n",
      "\n",
      "Minimum estimate for Brazil: 0.22\n",
      "Maximum estimate for Brazil: 0.43\n",
      "\n",
      "Minimum estimate for USA: 0.2\n",
      "Maximum estimate for USA: 0.5\n",
      "\n",
      "Minimum estimate for England: 0.45\n",
      "Maximum estimate for England: 0.45\n",
      "\n",
      "Minimum estimate for Canada: 0.25\n",
      "Maximum estimate for Canada: 0.3\n",
      "\n",
      "Minimum estimate for Argentina: 0.22\n",
      "Maximum estimate for Argentina: 0.22\n",
      "\n",
      "Minimum estimate for Greece: 0.15\n",
      "Maximum estimate for Greece: 0.99\n",
      "\n",
      "Minimum estimate for Morocco: 0.29\n",
      "Maximum estimate for Morocco: 0.29\n",
      "\n",
      "Minimum estimate for Tunisia: 0.56\n",
      "Maximum estimate for Tunisia: 0.68\n",
      "\n",
      "Minimum estimate for Egypt: 0.99\n",
      "Maximum estimate for Egypt: 0.99\n",
      "\n",
      "Minimum estimate for Jamaica: 0.61\n",
      "Maximum estimate for Jamaica: 0.71\n",
      "\n",
      "Minimum estimate for Switzerland: 0.51\n",
      "Maximum estimate for Switzerland: 0.99\n",
      "\n",
      "Minimum estimate for Germany: 0.36\n",
      "Maximum estimate for Germany: 0.49\n",
      "\n"
     ]
    }
   ],
   "source": [
    "for country in list(success_estimates.keys()):\n",
    "    print(f\"Minimum estimate for {country}: {min(success_estimates[country])}\\nMaximum estimate for {country}: {max(success_estimates[country])}\\n\")"
   ]
  },
  {
   "cell_type": "markdown",
   "metadata": {},
   "source": [
    "**Answer.** One possible solution is shown below:"
   ]
  },
  {
   "cell_type": "code",
   "execution_count": 19,
   "metadata": {
    "scrolled": false
   },
   "outputs": [
    {
     "name": "stdout",
     "output_type": "stream",
     "text": [
      "Country Australia , Min:  0.11\n",
      "Country Australia , Max:  0.6\n",
      "Country France , Min:  0.2\n",
      "Country France , Max:  0.98\n",
      "Country Italy , Min:  0.6\n",
      "Country Italy , Max:  0.6\n",
      "Country Brazil , Min:  0.22\n",
      "Country Brazil , Max:  0.43\n",
      "Country USA , Min:  0.2\n",
      "Country USA , Max:  0.5\n",
      "Country England , Min:  0.45\n",
      "Country England , Max:  0.45\n",
      "Country Canada , Min:  0.25\n",
      "Country Canada , Max:  0.3\n",
      "Country Argentina , Min:  0.22\n",
      "Country Argentina , Max:  0.22\n",
      "Country Greece , Min:  0.15\n",
      "Country Greece , Max:  0.99\n",
      "Country Morocco , Min:  0.29\n",
      "Country Morocco , Max:  0.29\n",
      "Country Tunisia , Min:  0.56\n",
      "Country Tunisia , Max:  0.68\n",
      "Country Egypt , Min:  0.99\n",
      "Country Egypt , Max:  0.99\n",
      "Country Jamaica , Min:  0.61\n",
      "Country Jamaica , Max:  0.71\n",
      "Country Switzerland , Min:  0.51\n",
      "Country Switzerland , Max:  0.99\n",
      "Country Germany , Min:  0.36\n",
      "Country Germany , Max:  0.49\n"
     ]
    }
   ],
   "source": [
    "for i in country_name_list:\n",
    "    print('Country',i,', Min: ', min(success_estimates[i]))\n",
    "    print('Country',i,', Max: ', max(success_estimates[i]))"
   ]
  },
  {
   "cell_type": "markdown",
   "metadata": {},
   "source": [
    "### Exercise 5:\n",
    "\n",
    "Using the for loop, write code to determine the country with the largest range of success estimates (that is, the largest difference between the smallest and largest estimate for a country)."
   ]
  },
  {
   "cell_type": "code",
   "execution_count": 15,
   "metadata": {},
   "outputs": [],
   "source": [
    "max_spread = 0\n",
    "max_country = ''\n",
    "for key, value in success_estimates.items():\n",
    "    curr = max(success_estimates[key]) - min(success_estimates[key])\n",
    "    if curr > max_spread:\n",
    "        max_spread = curr\n",
    "        max_country = key"
   ]
  },
  {
   "cell_type": "code",
   "execution_count": 16,
   "metadata": {},
   "outputs": [
    {
     "name": "stdout",
     "output_type": "stream",
     "text": [
      "0.84 Greece\n"
     ]
    }
   ],
   "source": [
    "print(max_spread, max_country)"
   ]
  },
  {
   "cell_type": "markdown",
   "metadata": {},
   "source": [
    "**Answer.** One possible solution is shown below:"
   ]
  },
  {
   "cell_type": "code",
   "execution_count": 20,
   "metadata": {},
   "outputs": [
    {
     "name": "stdout",
     "output_type": "stream",
     "text": [
      "Country:  Australia , Range:  0.49\n",
      "Country:  France , Range:  0.78\n",
      "Country:  Italy , Range:  0.0\n",
      "Country:  Brazil , Range:  0.21\n",
      "Country:  USA , Range:  0.3\n",
      "Country:  England , Range:  0.0\n",
      "Country:  Canada , Range:  0.04999999999999999\n",
      "Country:  Argentina , Range:  0.0\n",
      "Country:  Greece , Range:  0.84\n",
      "Country:  Morocco , Range:  0.0\n",
      "Country:  Tunisia , Range:  0.12\n",
      "Country:  Egypt , Range:  0.0\n",
      "Country:  Jamaica , Range:  0.09999999999999998\n",
      "Country:  Switzerland , Range:  0.48\n",
      "Country:  Germany , Range:  0.13\n"
     ]
    }
   ],
   "source": [
    "for i in country_name_list:\n",
    "    country_range = max(success_estimates[i]) - min(success_estimates[i])\n",
    "    print('Country: ', i, \", Range: \", country_range)\n",
    "    \n",
    "# Visualizally analyzing the output, we see Greece has the largest range"
   ]
  },
  {
   "cell_type": "markdown",
   "metadata": {},
   "source": [
    "## Using list comprehensions to determine the number of estimates for each country"
   ]
  },
  {
   "cell_type": "markdown",
   "metadata": {},
   "source": [
    "Moving forward, we are interested in knowing the number of success estimates available for each country. Python offers a concise way to achieve this goal through the use of <b>list comprehensions</b>.\n",
    "\n",
    "List comprehensions allow one to concisely build a list. Let's take a look at how this works."
   ]
  },
  {
   "cell_type": "code",
   "execution_count": 21,
   "metadata": {},
   "outputs": [
    {
     "data": {
      "text/plain": [
       "['Australia',\n",
       " 'France',\n",
       " 'Italy',\n",
       " 'Brazil',\n",
       " 'USA',\n",
       " 'England',\n",
       " 'Canada',\n",
       " 'Argentina',\n",
       " 'Greece',\n",
       " 'Morocco',\n",
       " 'Tunisia',\n",
       " 'Egypt',\n",
       " 'Jamaica',\n",
       " 'Switzerland',\n",
       " 'Germany']"
      ]
     },
     "execution_count": 21,
     "metadata": {},
     "output_type": "execute_result"
    }
   ],
   "source": [
    "key_name_list = [i for i in success_estimates] # loop over each item i in success_estimates and put i in the list\n",
    "key_name_list"
   ]
  },
  {
   "cell_type": "markdown",
   "metadata": {},
   "source": [
    "Here we see that we've looped over each key of the dictionary success_estimates (hence each country), and extracted the country name, all in one line of code. We can also access the values of each key in success_estimates."
   ]
  },
  {
   "cell_type": "code",
   "execution_count": 22,
   "metadata": {},
   "outputs": [
    {
     "data": {
      "text/plain": [
       "[[0.6, 0.33, 0.11, 0.14],\n",
       " [0.66, 0.78, 0.98, 0.2],\n",
       " [0.6],\n",
       " [0.22, 0.22, 0.43],\n",
       " [0.2, 0.5, 0.3],\n",
       " [0.45],\n",
       " [0.25, 0.3],\n",
       " [0.22],\n",
       " [0.45, 0.66, 0.75, 0.99, 0.15, 0.66],\n",
       " [0.29],\n",
       " [0.68, 0.56],\n",
       " [0.99],\n",
       " [0.61, 0.65, 0.71],\n",
       " [0.73, 0.86, 0.84, 0.51, 0.99],\n",
       " [0.45, 0.49, 0.36]]"
      ]
     },
     "execution_count": 22,
     "metadata": {},
     "output_type": "execute_result"
    }
   ],
   "source": [
    "value_name_list = [success_estimates[i] for i in success_estimates] # loop over each item i in success_estimates and put success_estimates[i] in the list\n",
    "value_name_list"
   ]
  },
  {
   "cell_type": "markdown",
   "metadata": {},
   "source": [
    "In the list comprehension above, each value of ```i``` is a country name and the value is returned when ```success_estimates[i]``` is called. We see the list comprehension is an effective and concise way to write a for loop that creates a list.\n",
    "\n",
    "We can the use this to quickly determine how many success estimates are available for each country."
   ]
  },
  {
   "cell_type": "code",
   "execution_count": 23,
   "metadata": {},
   "outputs": [
    {
     "data": {
      "text/plain": [
       "[['Australia', 4],\n",
       " ['France', 4],\n",
       " ['Italy', 1],\n",
       " ['Brazil', 3],\n",
       " ['USA', 3],\n",
       " ['England', 1],\n",
       " ['Canada', 2],\n",
       " ['Argentina', 1],\n",
       " ['Greece', 6],\n",
       " ['Morocco', 1],\n",
       " ['Tunisia', 2],\n",
       " ['Egypt', 1],\n",
       " ['Jamaica', 3],\n",
       " ['Switzerland', 5],\n",
       " ['Germany', 3]]"
      ]
     },
     "execution_count": 23,
     "metadata": {},
     "output_type": "execute_result"
    }
   ],
   "source": [
    "# Number of estimates available for each country\n",
    "[[i,len(success_estimates[i])] for i in success_estimates]"
   ]
  },
  {
   "cell_type": "markdown",
   "metadata": {},
   "source": [
    "### Exercise 6:"
   ]
  },
  {
   "cell_type": "markdown",
   "metadata": {},
   "source": [
    "Using list comprehensions, write a script to create a <b>list of lists</b> called ```sum_squares_list```, where each element of the list is a two-item list [country name, value]. The value item in the list should be the sum of squares of that country's success estimates. For example, one element of ```sum_squares_list``` should be for Jamaica, where the two-item list is [Jamaica, 1.2987] (since 1.2987 = 0.61^2 + 0.65^2 + 0.71^2)."
   ]
  },
  {
   "cell_type": "markdown",
   "metadata": {},
   "source": [
    "**Answer.** One possible answer is shown below:"
   ]
  },
  {
   "cell_type": "code",
   "execution_count": 24,
   "metadata": {
    "scrolled": true
   },
   "outputs": [
    {
     "data": {
      "text/plain": [
       "[['Australia', 0.5005999999999999],\n",
       " ['France', 2.0444],\n",
       " ['Italy', 0.36],\n",
       " ['Brazil', 0.28169999999999995],\n",
       " ['USA', 0.38],\n",
       " ['England', 0.2025],\n",
       " ['Canada', 0.1525],\n",
       " ['Argentina', 0.0484],\n",
       " ['Greece', 2.6388],\n",
       " ['Morocco', 0.0841],\n",
       " ['Tunisia', 0.7760000000000001],\n",
       " ['Egypt', 0.9801],\n",
       " ['Jamaica', 1.2987],\n",
       " ['Switzerland', 3.2183],\n",
       " ['Germany', 0.5722]]"
      ]
     },
     "execution_count": 24,
     "metadata": {},
     "output_type": "execute_result"
    }
   ],
   "source": [
    "# One possible solution\n",
    "sum_squares_list = [[i, sum([j**2 for j in success_estimates[i]])] for i in success_estimates]\n",
    "sum_squares_list"
   ]
  },
  {
   "cell_type": "markdown",
   "metadata": {},
   "source": [
    "### Exercise 7:\n",
    "\n",
    "We'd like to determine the spread around the mean success estimate for each country. Using list comprehensions, write a script that subtracts the mean success estimate for a given country from each success estimate for that country. Store the results in a list named ```removed_mean_list```. Round values to two decimal places. Your output should produce the following list of lists:\n",
    "\n",
    "```\n",
    "[['Australia', [0.3, 0.03, -0.19, -0.16]],\n",
    " ['France', [0.01, 0.12, 0.32, -0.46]],\n",
    " ['Italy', [0.0]],\n",
    " ['Brazil', [-0.07, -0.07, 0.14]],\n",
    " ['USA', [-0.13, 0.17, -0.03]],\n",
    " ['England', [0.0]],\n",
    " ['Canada', [-0.03, 0.02]],\n",
    " ['Argentina', [0.0]],\n",
    " ['Greece', [-0.16, 0.05, 0.14, 0.38, -0.46, 0.05]],\n",
    " ['Morocco', [0.0]],\n",
    " ['Tunisia', [0.06, -0.06]],\n",
    " ['Egypt', [0.0]],\n",
    " ['Jamaica', [-0.05, -0.01, 0.05]],\n",
    " ['Switzerland', [-0.06, 0.07, 0.05, -0.28, 0.2]],\n",
    " ['Germany', [0.02, 0.06, -0.07]]]\n",
    "```"
   ]
  },
  {
   "cell_type": "markdown",
   "metadata": {},
   "source": [
    "**Answer.** One possible answer is shown below:"
   ]
  },
  {
   "cell_type": "code",
   "execution_count": 25,
   "metadata": {
    "scrolled": true
   },
   "outputs": [
    {
     "data": {
      "text/plain": [
       "[['Australia', [0.3, 0.03, -0.19, -0.16]],\n",
       " ['France', [0.01, 0.12, 0.32, -0.46]],\n",
       " ['Italy', [0.0]],\n",
       " ['Brazil', [-0.07, -0.07, 0.14]],\n",
       " ['USA', [-0.13, 0.17, -0.03]],\n",
       " ['England', [0.0]],\n",
       " ['Canada', [-0.03, 0.02]],\n",
       " ['Argentina', [0.0]],\n",
       " ['Greece', [-0.16, 0.05, 0.14, 0.38, -0.46, 0.05]],\n",
       " ['Morocco', [0.0]],\n",
       " ['Tunisia', [0.06, -0.06]],\n",
       " ['Egypt', [0.0]],\n",
       " ['Jamaica', [-0.05, -0.01, 0.05]],\n",
       " ['Switzerland', [-0.06, 0.07, 0.05, -0.28, 0.2]],\n",
       " ['Germany', [0.02, 0.06, -0.07]]]"
      ]
     },
     "execution_count": 25,
     "metadata": {},
     "output_type": "execute_result"
    }
   ],
   "source": [
    "# One possible solution\n",
    "removed_mean_list = [[i, [round(j - sum(success_estimates[i])/len(success_estimates[i]),2) for j in success_estimates[i]]] for i in success_estimates]\n",
    "removed_mean_list"
   ]
  },
  {
   "cell_type": "markdown",
   "metadata": {},
   "source": [
    "## Reflecting on the country-specific mean success estimate"
   ]
  },
  {
   "cell_type": "markdown",
   "metadata": {},
   "source": [
    "Based on the above analysis, we see the mean country success estimates vary widely, from the lowest, Canada = 0.275, to the highest, Egypt = 0.99. However, notice that Egypt's mean is calculated from 1 success estimate. Are we confident in trusting a single estimate as a proxy for the average success estimate?\n",
    "\n",
    "Given that the global expansion project will utilize valuable company resources, we decide it is best to restrict our analysis to countries that have two or more success estimates. To accomplish this task, we will use a control structure in Python known as the <b>if...elif...else statement</b>. The general structure follows.\n",
    "\n",
    "```python\n",
    "if test_expression_1:\n",
    "    block1_statement(s)\n",
    "elif test_expression_2:\n",
    "    block2_statement2(s)\n",
    "else:\n",
    "    block3_statement(s)\n",
    "```\n",
    "\n",
    "Here, ```test_expression_1``` and ```test_expression_2``` must evaluate to ```True``` or ```False```, a Python <b>boolean</b> type. The boolean type is associated with variables that are either ```True``` or ```False```.\n",
    "\n",
    "If ```test_expression_1``` is True, ```block1_statement(s)``` will execute and the other block statements will not. If ```test_expression_1``` is False yet ```test_expression_2``` is True, then ```block2_statement2(s)``` will execute and the others will not. Finally, if ```test_expression_1``` and ```test_expression_2``` are both False, then the else section's ```block3_statement(s)``` will execute. This conditional structure of an if statement allows one to control the flow of Python code.\n",
    "\n",
    "Let's use this to filter out the countries that only have one success estimate."
   ]
  },
  {
   "cell_type": "markdown",
   "metadata": {},
   "source": [
    "## Selecting only multi-observation countries for global expansion potential"
   ]
  },
  {
   "cell_type": "markdown",
   "metadata": {},
   "source": [
    "We will use the if statement above to remove countries with less than one success estimate. For convenience of viewing the result, we will store the mean estimates for each country in a new dictionary ```country_means```."
   ]
  },
  {
   "cell_type": "code",
   "execution_count": 26,
   "metadata": {},
   "outputs": [],
   "source": [
    "# Get a list of all the country names\n",
    "country_name_list = list(success_estimates.keys())\n",
    "\n",
    "# Create an empty dictionary to hold country mean estimates\n",
    "country_means = {}\n",
    "\n",
    "# Loop through all countries and calculate their mean success estimate\n",
    "for i in country_name_list:\n",
    "    list_country_estimates = success_estimates[i] # list of estimates for a country\n",
    "\n",
    "    # if more than one country estimate, then record the mean estimate, otherwise go to next loop iteration\n",
    "    if len(success_estimates[i]) > 1:\n",
    "        country_mean_value = sum(list_country_estimates) / len(list_country_estimates)\n",
    "        country_means[i] =  country_mean_value # insert country mean value into dict using country name as key"
   ]
  },
  {
   "cell_type": "markdown",
   "metadata": {},
   "source": [
    "Let's format our results, modifying the string output to the screen to use 2 decimals when printing the float type. This is accomplished using the string type's ```.format()``` functionality. The ```{0:s}``` and ```{1:.2f}``` in the string indicate to the ```.format()``` method to format the first variable it receives as input as a string and replace the ```{0:s}``` placeholder, and to format the second variable it receives as input as a 2-decimal float and replace the ```{1:.2f}``` placeholder.\n",
    "\n",
    "With this formatting, the ```country_key``` variable will be displayed as a string in place of ```{0:s}```, while the ```country_means[country_key]``` variable will be displayed as a 2-decimal float in place of ```{1:.2f}```.  This advanced string formatting approach is useful to improve the clarity of the results."
   ]
  },
  {
   "cell_type": "code",
   "execution_count": 27,
   "metadata": {
    "scrolled": true
   },
   "outputs": [
    {
     "name": "stdout",
     "output_type": "stream",
     "text": [
      "Country: Australia, Avg Success Estimate: 0.30\n",
      "Country: France, Avg Success Estimate: 0.66\n",
      "Country: Brazil, Avg Success Estimate: 0.29\n",
      "Country: USA, Avg Success Estimate: 0.33\n",
      "Country: Canada, Avg Success Estimate: 0.28\n",
      "Country: Greece, Avg Success Estimate: 0.61\n",
      "Country: Tunisia, Avg Success Estimate: 0.62\n",
      "Country: Jamaica, Avg Success Estimate: 0.66\n",
      "Country: Switzerland, Avg Success Estimate: 0.79\n",
      "Country: Germany, Avg Success Estimate: 0.43\n"
     ]
    }
   ],
   "source": [
    "# Nicely format the result for printing to the screen\n",
    "for country_key in country_means: \n",
    "    print(\"Country: {0:s}, Avg Success Estimate: {1:.2f}\".format(country_key, country_means[country_key]))"
   ]
  },
  {
   "cell_type": "markdown",
   "metadata": {},
   "source": [
    "Observing the resulting country means, we notice the country with the largest mean success estimate is Switzerland at 0.79, while the lowest mean success estimate is Canada at 0.28."
   ]
  },
  {
   "cell_type": "markdown",
   "metadata": {},
   "source": [
    "### Exercise 8:\n",
    "\n",
    "After reviewing company policy on statistical procedures, you notice the company recommends that all estimates (averages, minimums, maximums) must have at least three values contributing to the summary statistic. Write a for loop and use the ```if``` statement structure to select and print the average success estimates for the countries satisfying this policy. If the country does not satisfy the policy, print the country name and ``\"*Does not meet company policy*\"``. Each country should appear on a new line."
   ]
  },
  {
   "cell_type": "markdown",
   "metadata": {},
   "source": [
    "**Answer.** One possible answer is shown below:"
   ]
  },
  {
   "cell_type": "code",
   "execution_count": 28,
   "metadata": {},
   "outputs": [
    {
     "name": "stdout",
     "output_type": "stream",
     "text": [
      "Country: Australia, Avg Success Estimate: 0.30\n",
      "Country: France, Avg Success Estimate: 0.66\n",
      "Country: Italy, *Does not Meet Company Policy*\n",
      "Country: Brazil, Avg Success Estimate: 0.29\n",
      "Country: USA, Avg Success Estimate: 0.33\n",
      "Country: England, *Does not Meet Company Policy*\n",
      "Country: Canada, *Does not Meet Company Policy*\n",
      "Country: Argentina, *Does not Meet Company Policy*\n",
      "Country: Greece, Avg Success Estimate: 0.61\n",
      "Country: Morocco, *Does not Meet Company Policy*\n",
      "Country: Tunisia, *Does not Meet Company Policy*\n",
      "Country: Egypt, *Does not Meet Company Policy*\n",
      "Country: Jamaica, Avg Success Estimate: 0.66\n",
      "Country: Switzerland, Avg Success Estimate: 0.79\n",
      "Country: Germany, Avg Success Estimate: 0.43\n"
     ]
    }
   ],
   "source": [
    "# Get a list of all the country names\n",
    "country_name_list = list(success_estimates.keys())\n",
    "\n",
    "# Create an empty dictionary to hold country mean estimates\n",
    "country_means = {}\n",
    "\n",
    "# Loop through all countries and calculate their mean success estimate\n",
    "for i in country_name_list:\n",
    "    list_country_estimates = success_estimates[i] # list of estimates for a country\n",
    "\n",
    "    # if more than one country estimate, then record the mean estimate, otherwise go to next loop iteration\n",
    "    if len(success_estimates[i]) > 2:\n",
    "        country_mean_value = sum(list_country_estimates) / len(list_country_estimates)\n",
    "        country_means[i] =  country_mean_value # insert country mean value into dict using country name as key\n",
    "        print(\"Country: {0:s}, Avg Success Estimate: {1:.2f}\".format(i, country_mean_value))\n",
    "    else:\n",
    "        print(\"Country: {0:s}, *Does not Meet Company Policy*\".format(i))"
   ]
  },
  {
   "cell_type": "markdown",
   "metadata": {},
   "source": [
    "### Exercise 9:\n",
    "\n",
    "What is another approach to ameliorate the one-sample problem for some countries? Think in terms of the factors that drive confidence in data-driven business decisions.\n",
    "\n",
    "(a) Group countries together to larger regions to ensure each region has at least one estimate\n",
    "\n",
    "(b) Only remove a country if its esimates are very large or very small compared to other estimates\n",
    "\n",
    "(c) Use a different summary statistic for the analysis other than the average value\n",
    "\n",
    "(d) Revisit why some countries only have one estimate and see if more data can be sourced for these countries\n",
    "\n",
    "**Answer.** (d).\n",
    "\n",
    "Answer (a) sounds like a good approach, however it will not accomplish the task at hand. The task is to find a specific country for global expansion, not a region. Thus, if one were to regroup countries to regions, they would first have to redefine the problem statement.\n",
    "\n",
    "Answer (b) is an incorrect method to handle this particular data set since country statistics should be calculated independently of other countries. If one countries estimates depend on another, this could significantly complicate the analysis and would likely require a more complex and costly investigation.\n",
    "\n",
    "Regarding answer (c), using a different summary statistic will not solve the problem of having one sample for the statistical calculation. We would like to have more confidence in our statistical estimate. Using a different measure of success such as the minimum or maximum estimate will not ameliorate the single-sample size issue.\n",
    "\n",
    "It is common to revisit the source of the data set for a problem as an iterative analysis is performed. Hence, answer (d) is a correct approach to ameliorate the one-sample size problem.  As new insight is gained throughout the analysis, one should always reflect on the data collection process and determine if any new information may help the analysis to move forward. In this case, upon observing some countries having one estimate, it would likely be beneificial to determine why some countries have such small numbers of estimates and if there is a simple, cost-effective method to obtain additional estimates for these countries before moving forward in the analysis.\n"
   ]
  },
  {
   "cell_type": "markdown",
   "metadata": {},
   "source": [
    "## Putting it all together"
   ]
  },
  {
   "cell_type": "markdown",
   "metadata": {},
   "source": [
    "We've used for loops and control structures to calculate partial summary statistics for each of the countries. Let's put it all together to obtain a recommendation on which country we should choose to expand the luxury flight services."
   ]
  },
  {
   "cell_type": "markdown",
   "metadata": {},
   "source": [
    "### Exercise 10:\n",
    "\n",
    "Write code to print each country name and summary statistics. Each line should show one country and the corresponding summary statistics: Min Estimate (float), Average Estimate (float), Max Estimate (float), Number of Estimates (int), Meets Company Policy of at least 3 estimates (bool). For example, the line for France would appear as:\n",
    "```\n",
    "Country: France , Min: 0.2 , Average: 0.655 , Max: 0.98 , NumEst: 4 , MeetsPolicy: True\n",
    "```"
   ]
  },
  {
   "cell_type": "code",
   "execution_count": 32,
   "metadata": {
    "scrolled": true
   },
   "outputs": [
    {
     "name": "stdout",
     "output_type": "stream",
     "text": [
      "Australia: Min: 0.11 Max: 0.6 Avg: 0.3 Std: 0.2\n",
      "France: Min: 0.2 Max: 0.98 Avg: 0.66 Std: 0.29\n",
      "Italy: Insufficient samples\n",
      "Brazil: Min: 0.22 Max: 0.43 Avg: 0.29 Std: 0.1\n",
      "USA: Min: 0.2 Max: 0.5 Avg: 0.33 Std: 0.12\n",
      "England: Insufficient samples\n",
      "Canada: Insufficient samples\n",
      "Argentina: Insufficient samples\n",
      "Greece: Min: 0.15 Max: 0.99 Avg: 0.61 Std: 0.26\n",
      "Morocco: Insufficient samples\n",
      "Tunisia: Insufficient samples\n",
      "Egypt: Insufficient samples\n",
      "Jamaica: Min: 0.61 Max: 0.71 Avg: 0.66 Std: 0.04\n",
      "Switzerland: Min: 0.51 Max: 0.99 Avg: 0.79 Std: 0.16\n",
      "Germany: Min: 0.36 Max: 0.49 Avg: 0.43 Std: 0.05\n"
     ]
    },
    {
     "data": {
      "image/png": "[encoded data removed]",
      "text/plain": [
       "<Figure size 432x288 with 1 Axes>"
      ]
     },
     "metadata": {
      "needs_background": "light"
     },
     "output_type": "display_data"
    }
   ],
   "source": [
    "import numpy as np\n",
    "import pandas as pd\n",
    "import matplotlib.pyplot as plt\n",
    "%matplotlib inline\n",
    "\n",
    "def print_stats(dictionary):\n",
    "    stats = dict()\n",
    "    for k,v in dictionary.items():\n",
    "        if len(v) > 2:\n",
    "            print(f\"{k}: Min: {min(v)} Max: {max(v)} Avg: {round(np.mean(v),2)} Std: {round(np.std(v),2)}\")\n",
    "        else:\n",
    "            print(f\"{k}: Insufficient samples\")\n",
    "        stats[k] = {\"min\":min(v), \"max\":max(v), \"avg\":np.mean(v), \"std\":np.std(v)}\n",
    "    df = pd.DataFrame.from_dict(stats).T\n",
    "    df.plot(kind='bar')\n",
    "    plt.show()\n",
    "    return df\n",
    "    \n",
    "df = print_stats(success_estimates)"
   ]
  },
  {
   "cell_type": "code",
   "execution_count": 31,
   "metadata": {},
   "outputs": [
    {
     "data": {
      "text/html": [
       "<div>\n",
       "<style scoped>\n",
       "    .dataframe tbody tr th:only-of-type {\n",
       "        vertical-align: middle;\n",
       "    }\n",
       "\n",
       "    .dataframe tbody tr th {\n",
       "        vertical-align: top;\n",
       "    }\n",
       "\n",
       "    .dataframe thead th {\n",
       "        text-align: right;\n",
       "    }\n",
       "</style>\n",
       "<table border=\"1\" class=\"dataframe\">\n",
       "  <thead>\n",
       "    <tr style=\"text-align: right;\">\n",
       "      <th></th>\n",
       "      <th>avg</th>\n",
       "      <th>max</th>\n",
       "      <th>min</th>\n",
       "      <th>std</th>\n",
       "    </tr>\n",
       "  </thead>\n",
       "  <tbody>\n",
       "    <tr>\n",
       "      <th>Australia</th>\n",
       "      <td>0.295000</td>\n",
       "      <td>0.60</td>\n",
       "      <td>0.11</td>\n",
       "      <td>0.195256</td>\n",
       "    </tr>\n",
       "    <tr>\n",
       "      <th>France</th>\n",
       "      <td>0.655000</td>\n",
       "      <td>0.98</td>\n",
       "      <td>0.20</td>\n",
       "      <td>0.286487</td>\n",
       "    </tr>\n",
       "    <tr>\n",
       "      <th>Italy</th>\n",
       "      <td>0.600000</td>\n",
       "      <td>0.60</td>\n",
       "      <td>0.60</td>\n",
       "      <td>0.000000</td>\n",
       "    </tr>\n",
       "    <tr>\n",
       "      <th>Brazil</th>\n",
       "      <td>0.290000</td>\n",
       "      <td>0.43</td>\n",
       "      <td>0.22</td>\n",
       "      <td>0.098995</td>\n",
       "    </tr>\n",
       "    <tr>\n",
       "      <th>USA</th>\n",
       "      <td>0.333333</td>\n",
       "      <td>0.50</td>\n",
       "      <td>0.20</td>\n",
       "      <td>0.124722</td>\n",
       "    </tr>\n",
       "    <tr>\n",
       "      <th>England</th>\n",
       "      <td>0.450000</td>\n",
       "      <td>0.45</td>\n",
       "      <td>0.45</td>\n",
       "      <td>0.000000</td>\n",
       "    </tr>\n",
       "    <tr>\n",
       "      <th>Canada</th>\n",
       "      <td>0.275000</td>\n",
       "      <td>0.30</td>\n",
       "      <td>0.25</td>\n",
       "      <td>0.025000</td>\n",
       "    </tr>\n",
       "    <tr>\n",
       "      <th>Argentina</th>\n",
       "      <td>0.220000</td>\n",
       "      <td>0.22</td>\n",
       "      <td>0.22</td>\n",
       "      <td>0.000000</td>\n",
       "    </tr>\n",
       "    <tr>\n",
       "      <th>Greece</th>\n",
       "      <td>0.610000</td>\n",
       "      <td>0.99</td>\n",
       "      <td>0.15</td>\n",
       "      <td>0.260192</td>\n",
       "    </tr>\n",
       "    <tr>\n",
       "      <th>Morocco</th>\n",
       "      <td>0.290000</td>\n",
       "      <td>0.29</td>\n",
       "      <td>0.29</td>\n",
       "      <td>0.000000</td>\n",
       "    </tr>\n",
       "    <tr>\n",
       "      <th>Tunisia</th>\n",
       "      <td>0.620000</td>\n",
       "      <td>0.68</td>\n",
       "      <td>0.56</td>\n",
       "      <td>0.060000</td>\n",
       "    </tr>\n",
       "    <tr>\n",
       "      <th>Egypt</th>\n",
       "      <td>0.990000</td>\n",
       "      <td>0.99</td>\n",
       "      <td>0.99</td>\n",
       "      <td>0.000000</td>\n",
       "    </tr>\n",
       "    <tr>\n",
       "      <th>Jamaica</th>\n",
       "      <td>0.656667</td>\n",
       "      <td>0.71</td>\n",
       "      <td>0.61</td>\n",
       "      <td>0.041096</td>\n",
       "    </tr>\n",
       "    <tr>\n",
       "      <th>Switzerland</th>\n",
       "      <td>0.786000</td>\n",
       "      <td>0.99</td>\n",
       "      <td>0.51</td>\n",
       "      <td>0.160823</td>\n",
       "    </tr>\n",
       "    <tr>\n",
       "      <th>Germany</th>\n",
       "      <td>0.433333</td>\n",
       "      <td>0.49</td>\n",
       "      <td>0.36</td>\n",
       "      <td>0.054365</td>\n",
       "    </tr>\n",
       "  </tbody>\n",
       "</table>\n",
       "</div>"
      ],
      "text/plain": [
       "                  avg   max   min       std\n",
       "Australia    0.295000  0.60  0.11  0.195256\n",
       "France       0.655000  0.98  0.20  0.286487\n",
       "Italy        0.600000  0.60  0.60  0.000000\n",
       "Brazil       0.290000  0.43  0.22  0.098995\n",
       "USA          0.333333  0.50  0.20  0.124722\n",
       "England      0.450000  0.45  0.45  0.000000\n",
       "Canada       0.275000  0.30  0.25  0.025000\n",
       "Argentina    0.220000  0.22  0.22  0.000000\n",
       "Greece       0.610000  0.99  0.15  0.260192\n",
       "Morocco      0.290000  0.29  0.29  0.000000\n",
       "Tunisia      0.620000  0.68  0.56  0.060000\n",
       "Egypt        0.990000  0.99  0.99  0.000000\n",
       "Jamaica      0.656667  0.71  0.61  0.041096\n",
       "Switzerland  0.786000  0.99  0.51  0.160823\n",
       "Germany      0.433333  0.49  0.36  0.054365"
      ]
     },
     "execution_count": 31,
     "metadata": {},
     "output_type": "execute_result"
    }
   ],
   "source": [
    "df.head().T"
   ]
  },
  {
   "cell_type": "markdown",
   "metadata": {},
   "source": [
    "**Answer.** One possible solution is shown below:"
   ]
  },
  {
   "cell_type": "code",
   "execution_count": 29,
   "metadata": {},
   "outputs": [
    {
     "name": "stdout",
     "output_type": "stream",
     "text": [
      "Country: Australia , Min: 0.11 , Average: 0.29500000000000004 , Max: 0.6 , NumEst: 4 , MeetsPolicy: True\n",
      "Country: France , Min: 0.2 , Average: 0.655 , Max: 0.98 , NumEst: 4 , MeetsPolicy: True\n",
      "Country: Italy , Min: 0.6 , Average: 0.6 , Max: 0.6 , NumEst: 1 , MeetsPolicy: False\n",
      "Country: Brazil , Min: 0.22 , Average: 0.29 , Max: 0.43 , NumEst: 3 , MeetsPolicy: True\n",
      "Country: USA , Min: 0.2 , Average: 0.3333333333333333 , Max: 0.5 , NumEst: 3 , MeetsPolicy: True\n",
      "Country: England , Min: 0.45 , Average: 0.45 , Max: 0.45 , NumEst: 1 , MeetsPolicy: False\n",
      "Country: Canada , Min: 0.25 , Average: 0.275 , Max: 0.3 , NumEst: 2 , MeetsPolicy: False\n",
      "Country: Argentina , Min: 0.22 , Average: 0.22 , Max: 0.22 , NumEst: 1 , MeetsPolicy: False\n",
      "Country: Greece , Min: 0.15 , Average: 0.61 , Max: 0.99 , NumEst: 6 , MeetsPolicy: True\n",
      "Country: Morocco , Min: 0.29 , Average: 0.29 , Max: 0.29 , NumEst: 1 , MeetsPolicy: False\n",
      "Country: Tunisia , Min: 0.56 , Average: 0.6200000000000001 , Max: 0.68 , NumEst: 2 , MeetsPolicy: False\n",
      "Country: Egypt , Min: 0.99 , Average: 0.99 , Max: 0.99 , NumEst: 1 , MeetsPolicy: False\n",
      "Country: Jamaica , Min: 0.61 , Average: 0.6566666666666666 , Max: 0.71 , NumEst: 3 , MeetsPolicy: True\n",
      "Country: Switzerland , Min: 0.51 , Average: 0.7859999999999999 , Max: 0.99 , NumEst: 5 , MeetsPolicy: True\n",
      "Country: Germany , Min: 0.36 , Average: 0.4333333333333333 , Max: 0.49 , NumEst: 3 , MeetsPolicy: True\n"
     ]
    }
   ],
   "source": [
    "country_name_list = list(success_estimates.keys())\n",
    "for i in country_name_list:\n",
    "    min_stat = min(success_estimates[i])\n",
    "    mean_stat = sum(success_estimates[i]) / len(success_estimates[i])\n",
    "    max_stat = max(success_estimates[i])\n",
    "    len_stat = len(success_estimates[i])\n",
    "    meets_policy = len_stat > 2\n",
    "    print('Country:',i,', Min:',min_stat,', Average:',mean_stat,', Max:',max_stat,', NumEst:',len_stat,', MeetsPolicy:',meets_policy)"
   ]
  },
  {
   "cell_type": "markdown",
   "metadata": {},
   "source": [
    "Now that we have summary statistics for a variety of country estimates, let's construct our actionable business recommendation."
   ]
  },
  {
   "cell_type": "markdown",
   "metadata": {},
   "source": [
    "## Conclusions"
   ]
  },
  {
   "cell_type": "markdown",
   "metadata": {},
   "source": [
    "From the analysis, Switzerland is the country with the largest chance of success for global expansion with an estimated success rate of 0.79.  The summary statistic for Switzerland was calculated with an adequate number of estimates according to company policy. Thus, it is recommended that management explore opportunities in Switzerland for luxury flight services.\n",
    "\n",
    "In addition, other countries that should be closely monitored for luxury flight services are Jamaica and France, where each held a 0.66 average success estimate. If there are additional resources in the future for further luxury service expansion, these countries may be apt choices."
   ]
  },
  {
   "cell_type": "markdown",
   "metadata": {
    "collapsed": true
   },
   "source": [
    "## Takeaways"
   ]
  },
  {
   "cell_type": "markdown",
   "metadata": {},
   "source": [
    "In this case, we've learned the foundations of Python. Through identifying global expansion opportunities for an airline company we've covered fundamental data types, control structures, and a useful Python workflow to analyze a given set of data. You also learned about various summary statistics and how much confidence you can have in drawing conclusions from them.\n",
    "\n",
    "Building on this knowledge, you can use these Python tools as both a foundation and a framework to build more complex projects and solve critical business problems. Python continues to be an outstanding tool to perform data-driven analysis and deliver key business insights."
   ]
  }
 ],
 "metadata": {
  "kernelspec": {
   "display_name": "ds4a",
   "language": "python",
   "name": "ds4a"
  },
  "language_info": {
   "codemirror_mode": {
    "name": "ipython",
    "version": 3
   },
   "file_extension": ".py",
   "mimetype": "text/x-python",
   "name": "python",
   "nbconvert_exporter": "python",
   "pygments_lexer": "ipython3",
   "version": "3.7.3"
  }
 },
 "nbformat": 4,
 "nbformat_minor": 1
}

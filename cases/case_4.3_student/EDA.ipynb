{
 "cells": [
  {
   "cell_type": "code",
   "execution_count": 1,
   "metadata": {},
   "outputs": [],
   "source": [
    "import pandas as pd"
   ]
  },
  {
   "cell_type": "code",
   "execution_count": 5,
   "metadata": {},
   "outputs": [
    {
     "name": "stdout",
     "output_type": "stream",
     "text": [
      "/Users/lorajohns/Development/DS4A_workspace/ds4a/ds4a/case_4.3_student\r\n"
     ]
    }
   ],
   "source": [
    "!pwd"
   ]
  },
  {
   "cell_type": "code",
   "execution_count": 36,
   "metadata": {},
   "outputs": [],
   "source": [
    "green = pd.read_csv('../final 9/green_trips.csv')"
   ]
  },
  {
   "cell_type": "code",
   "execution_count": 37,
   "metadata": {},
   "outputs": [
    {
     "data": {
      "text/html": [
       "<div>\n",
       "<style scoped>\n",
       "    .dataframe tbody tr th:only-of-type {\n",
       "        vertical-align: middle;\n",
       "    }\n",
       "\n",
       "    .dataframe tbody tr th {\n",
       "        vertical-align: top;\n",
       "    }\n",
       "\n",
       "    .dataframe thead th {\n",
       "        text-align: right;\n",
       "    }\n",
       "</style>\n",
       "<table border=\"1\" class=\"dataframe\">\n",
       "  <thead>\n",
       "    <tr style=\"text-align: right;\">\n",
       "      <th></th>\n",
       "      <th>pickup_datetime</th>\n",
       "      <th>dropoff_datetime</th>\n",
       "      <th>pickup_longitude</th>\n",
       "      <th>pickup_latitude</th>\n",
       "      <th>dropoff_longitude</th>\n",
       "      <th>dropoff_latitude</th>\n",
       "      <th>passenger_count</th>\n",
       "      <th>trip_distance</th>\n",
       "      <th>total_amount</th>\n",
       "    </tr>\n",
       "  </thead>\n",
       "  <tbody>\n",
       "    <tr>\n",
       "      <th>0</th>\n",
       "      <td>2015-02-01 01:26:45</td>\n",
       "      <td>2015-02-01 01:49:58</td>\n",
       "      <td>-73.953545</td>\n",
       "      <td>40.811172</td>\n",
       "      <td>-73.984764</td>\n",
       "      <td>40.728386</td>\n",
       "      <td>1</td>\n",
       "      <td>8.11</td>\n",
       "      <td>27.8</td>\n",
       "    </tr>\n",
       "    <tr>\n",
       "      <th>1</th>\n",
       "      <td>2015-01-02 20:06:28</td>\n",
       "      <td>2015-01-02 20:14:04</td>\n",
       "      <td>-73.946709</td>\n",
       "      <td>40.714321</td>\n",
       "      <td>-73.961571</td>\n",
       "      <td>40.711475</td>\n",
       "      <td>1</td>\n",
       "      <td>1.29</td>\n",
       "      <td>9.8</td>\n",
       "    </tr>\n",
       "    <tr>\n",
       "      <th>2</th>\n",
       "      <td>2014-09-27 17:55:38</td>\n",
       "      <td>2014-09-27 18:19:56</td>\n",
       "      <td>-73.957626</td>\n",
       "      <td>40.718094</td>\n",
       "      <td>-73.947304</td>\n",
       "      <td>40.777813</td>\n",
       "      <td>5</td>\n",
       "      <td>6.12</td>\n",
       "      <td>26.3</td>\n",
       "    </tr>\n",
       "    <tr>\n",
       "      <th>3</th>\n",
       "      <td>2014-04-27 02:27:04</td>\n",
       "      <td>2014-04-27 02:39:02</td>\n",
       "      <td>-73.949501</td>\n",
       "      <td>40.713997</td>\n",
       "      <td>-73.987785</td>\n",
       "      <td>40.718582</td>\n",
       "      <td>2</td>\n",
       "      <td>3.68</td>\n",
       "      <td>17.3</td>\n",
       "    </tr>\n",
       "    <tr>\n",
       "      <th>4</th>\n",
       "      <td>2014-05-26 18:32:19</td>\n",
       "      <td>2014-05-26 18:44:13</td>\n",
       "      <td>-73.944092</td>\n",
       "      <td>40.672195</td>\n",
       "      <td>-73.977325</td>\n",
       "      <td>40.664013</td>\n",
       "      <td>1</td>\n",
       "      <td>2.40</td>\n",
       "      <td>11.5</td>\n",
       "    </tr>\n",
       "  </tbody>\n",
       "</table>\n",
       "</div>"
      ],
      "text/plain": [
       "       pickup_datetime     dropoff_datetime  pickup_longitude  \\\n",
       "0  2015-02-01 01:26:45  2015-02-01 01:49:58        -73.953545   \n",
       "1  2015-01-02 20:06:28  2015-01-02 20:14:04        -73.946709   \n",
       "2  2014-09-27 17:55:38  2014-09-27 18:19:56        -73.957626   \n",
       "3  2014-04-27 02:27:04  2014-04-27 02:39:02        -73.949501   \n",
       "4  2014-05-26 18:32:19  2014-05-26 18:44:13        -73.944092   \n",
       "\n",
       "   pickup_latitude  dropoff_longitude  dropoff_latitude  passenger_count  \\\n",
       "0        40.811172         -73.984764         40.728386                1   \n",
       "1        40.714321         -73.961571         40.711475                1   \n",
       "2        40.718094         -73.947304         40.777813                5   \n",
       "3        40.713997         -73.987785         40.718582                2   \n",
       "4        40.672195         -73.977325         40.664013                1   \n",
       "\n",
       "   trip_distance  total_amount  \n",
       "0           8.11          27.8  \n",
       "1           1.29           9.8  \n",
       "2           6.12          26.3  \n",
       "3           3.68          17.3  \n",
       "4           2.40          11.5  "
      ]
     },
     "execution_count": 37,
     "metadata": {},
     "output_type": "execute_result"
    }
   ],
   "source": [
    "green.head()"
   ]
  },
  {
   "cell_type": "code",
   "execution_count": 38,
   "metadata": {
    "scrolled": true
   },
   "outputs": [],
   "source": [
    "green.pickup_datetime = pd.to_datetime(df.pickup_datetime, format='%Y-%m-%d')"
   ]
  },
  {
   "cell_type": "code",
   "execution_count": 39,
   "metadata": {},
   "outputs": [
    {
     "data": {
      "text/html": [
       "<div>\n",
       "<style scoped>\n",
       "    .dataframe tbody tr th:only-of-type {\n",
       "        vertical-align: middle;\n",
       "    }\n",
       "\n",
       "    .dataframe tbody tr th {\n",
       "        vertical-align: top;\n",
       "    }\n",
       "\n",
       "    .dataframe thead th {\n",
       "        text-align: right;\n",
       "    }\n",
       "</style>\n",
       "<table border=\"1\" class=\"dataframe\">\n",
       "  <thead>\n",
       "    <tr style=\"text-align: right;\">\n",
       "      <th></th>\n",
       "      <th>pickup_datetime</th>\n",
       "      <th>dropoff_datetime</th>\n",
       "      <th>pickup_longitude</th>\n",
       "      <th>pickup_latitude</th>\n",
       "      <th>dropoff_longitude</th>\n",
       "      <th>dropoff_latitude</th>\n",
       "      <th>passenger_count</th>\n",
       "      <th>trip_distance</th>\n",
       "      <th>total_amount</th>\n",
       "    </tr>\n",
       "  </thead>\n",
       "  <tbody>\n",
       "    <tr>\n",
       "      <th>0</th>\n",
       "      <td>2015-02-01 01:26:45</td>\n",
       "      <td>2015-02-01 01:49:58</td>\n",
       "      <td>-73.953545</td>\n",
       "      <td>40.811172</td>\n",
       "      <td>-73.984764</td>\n",
       "      <td>40.728386</td>\n",
       "      <td>1</td>\n",
       "      <td>8.11</td>\n",
       "      <td>27.8</td>\n",
       "    </tr>\n",
       "    <tr>\n",
       "      <th>1</th>\n",
       "      <td>2015-01-02 20:06:28</td>\n",
       "      <td>2015-01-02 20:14:04</td>\n",
       "      <td>-73.946709</td>\n",
       "      <td>40.714321</td>\n",
       "      <td>-73.961571</td>\n",
       "      <td>40.711475</td>\n",
       "      <td>1</td>\n",
       "      <td>1.29</td>\n",
       "      <td>9.8</td>\n",
       "    </tr>\n",
       "    <tr>\n",
       "      <th>2</th>\n",
       "      <td>2014-09-27 17:55:38</td>\n",
       "      <td>2014-09-27 18:19:56</td>\n",
       "      <td>-73.957626</td>\n",
       "      <td>40.718094</td>\n",
       "      <td>-73.947304</td>\n",
       "      <td>40.777813</td>\n",
       "      <td>5</td>\n",
       "      <td>6.12</td>\n",
       "      <td>26.3</td>\n",
       "    </tr>\n",
       "    <tr>\n",
       "      <th>3</th>\n",
       "      <td>2014-04-27 02:27:04</td>\n",
       "      <td>2014-04-27 02:39:02</td>\n",
       "      <td>-73.949501</td>\n",
       "      <td>40.713997</td>\n",
       "      <td>-73.987785</td>\n",
       "      <td>40.718582</td>\n",
       "      <td>2</td>\n",
       "      <td>3.68</td>\n",
       "      <td>17.3</td>\n",
       "    </tr>\n",
       "    <tr>\n",
       "      <th>4</th>\n",
       "      <td>2014-05-26 18:32:19</td>\n",
       "      <td>2014-05-26 18:44:13</td>\n",
       "      <td>-73.944092</td>\n",
       "      <td>40.672195</td>\n",
       "      <td>-73.977325</td>\n",
       "      <td>40.664013</td>\n",
       "      <td>1</td>\n",
       "      <td>2.40</td>\n",
       "      <td>11.5</td>\n",
       "    </tr>\n",
       "  </tbody>\n",
       "</table>\n",
       "</div>"
      ],
      "text/plain": [
       "      pickup_datetime     dropoff_datetime  pickup_longitude  pickup_latitude  \\\n",
       "0 2015-02-01 01:26:45  2015-02-01 01:49:58        -73.953545        40.811172   \n",
       "1 2015-01-02 20:06:28  2015-01-02 20:14:04        -73.946709        40.714321   \n",
       "2 2014-09-27 17:55:38  2014-09-27 18:19:56        -73.957626        40.718094   \n",
       "3 2014-04-27 02:27:04  2014-04-27 02:39:02        -73.949501        40.713997   \n",
       "4 2014-05-26 18:32:19  2014-05-26 18:44:13        -73.944092        40.672195   \n",
       "\n",
       "   dropoff_longitude  dropoff_latitude  passenger_count  trip_distance  \\\n",
       "0         -73.984764         40.728386                1           8.11   \n",
       "1         -73.961571         40.711475                1           1.29   \n",
       "2         -73.947304         40.777813                5           6.12   \n",
       "3         -73.987785         40.718582                2           3.68   \n",
       "4         -73.977325         40.664013                1           2.40   \n",
       "\n",
       "   total_amount  \n",
       "0          27.8  \n",
       "1           9.8  \n",
       "2          26.3  \n",
       "3          17.3  \n",
       "4          11.5  "
      ]
     },
     "execution_count": 39,
     "metadata": {},
     "output_type": "execute_result"
    }
   ],
   "source": [
    "green.head()"
   ]
  },
  {
   "cell_type": "code",
   "execution_count": 24,
   "metadata": {},
   "outputs": [
    {
     "data": {
      "text/plain": [
       "1608944"
      ]
     },
     "execution_count": 24,
     "metadata": {},
     "output_type": "execute_result"
    }
   ],
   "source": [
    "len(green[green.pickup_datetime.dt.year == 2014])"
   ]
  },
  {
   "cell_type": "code",
   "execution_count": 26,
   "metadata": {},
   "outputs": [],
   "source": [
    "uber = pd.read_csv(\"../final 9/uber_trips_2014.csv\")"
   ]
  },
  {
   "cell_type": "code",
   "execution_count": 28,
   "metadata": {},
   "outputs": [
    {
     "data": {
      "text/html": [
       "<div>\n",
       "<style scoped>\n",
       "    .dataframe tbody tr th:only-of-type {\n",
       "        vertical-align: middle;\n",
       "    }\n",
       "\n",
       "    .dataframe tbody tr th {\n",
       "        vertical-align: top;\n",
       "    }\n",
       "\n",
       "    .dataframe thead th {\n",
       "        text-align: right;\n",
       "    }\n",
       "</style>\n",
       "<table border=\"1\" class=\"dataframe\">\n",
       "  <thead>\n",
       "    <tr style=\"text-align: right;\">\n",
       "      <th></th>\n",
       "      <th>pickup_datetime</th>\n",
       "      <th>pickup_latitude</th>\n",
       "      <th>pickup_longitude</th>\n",
       "      <th>base</th>\n",
       "    </tr>\n",
       "  </thead>\n",
       "  <tbody>\n",
       "    <tr>\n",
       "      <th>4534322</th>\n",
       "      <td>9/30/2014 22:57:00</td>\n",
       "      <td>40.7668</td>\n",
       "      <td>-73.9845</td>\n",
       "      <td>B02764</td>\n",
       "    </tr>\n",
       "    <tr>\n",
       "      <th>4534323</th>\n",
       "      <td>9/30/2014 22:57:00</td>\n",
       "      <td>40.6911</td>\n",
       "      <td>-74.1773</td>\n",
       "      <td>B02764</td>\n",
       "    </tr>\n",
       "    <tr>\n",
       "      <th>4534324</th>\n",
       "      <td>9/30/2014 22:58:00</td>\n",
       "      <td>40.8519</td>\n",
       "      <td>-73.9319</td>\n",
       "      <td>B02764</td>\n",
       "    </tr>\n",
       "    <tr>\n",
       "      <th>4534325</th>\n",
       "      <td>9/30/2014 22:58:00</td>\n",
       "      <td>40.7081</td>\n",
       "      <td>-74.0066</td>\n",
       "      <td>B02764</td>\n",
       "    </tr>\n",
       "    <tr>\n",
       "      <th>4534326</th>\n",
       "      <td>9/30/2014 22:58:00</td>\n",
       "      <td>40.7140</td>\n",
       "      <td>-73.9496</td>\n",
       "      <td>B02764</td>\n",
       "    </tr>\n",
       "  </tbody>\n",
       "</table>\n",
       "</div>"
      ],
      "text/plain": [
       "            pickup_datetime  pickup_latitude  pickup_longitude    base\n",
       "4534322  9/30/2014 22:57:00          40.7668          -73.9845  B02764\n",
       "4534323  9/30/2014 22:57:00          40.6911          -74.1773  B02764\n",
       "4534324  9/30/2014 22:58:00          40.8519          -73.9319  B02764\n",
       "4534325  9/30/2014 22:58:00          40.7081          -74.0066  B02764\n",
       "4534326  9/30/2014 22:58:00          40.7140          -73.9496  B02764"
      ]
     },
     "execution_count": 28,
     "metadata": {},
     "output_type": "execute_result"
    }
   ],
   "source": [
    "uber.tail()"
   ]
  },
  {
   "cell_type": "code",
   "execution_count": 29,
   "metadata": {},
   "outputs": [
    {
     "name": "stdout",
     "output_type": "stream",
     "text": [
      "<class 'pandas.core.frame.DataFrame'>\n",
      "RangeIndex: 4534327 entries, 0 to 4534326\n",
      "Data columns (total 4 columns):\n",
      "pickup_datetime     object\n",
      "pickup_latitude     float64\n",
      "pickup_longitude    float64\n",
      "base                object\n",
      "dtypes: float64(2), object(2)\n",
      "memory usage: 138.4+ MB\n"
     ]
    }
   ],
   "source": [
    "uber.info()"
   ]
  },
  {
   "cell_type": "code",
   "execution_count": 30,
   "metadata": {},
   "outputs": [],
   "source": [
    "yellow = pd.read_csv(\"../final 9/yellow_trips.csv\")"
   ]
  },
  {
   "cell_type": "code",
   "execution_count": 33,
   "metadata": {},
   "outputs": [
    {
     "data": {
      "text/html": [
       "<div>\n",
       "<style scoped>\n",
       "    .dataframe tbody tr th:only-of-type {\n",
       "        vertical-align: middle;\n",
       "    }\n",
       "\n",
       "    .dataframe tbody tr th {\n",
       "        vertical-align: top;\n",
       "    }\n",
       "\n",
       "    .dataframe thead th {\n",
       "        text-align: right;\n",
       "    }\n",
       "</style>\n",
       "<table border=\"1\" class=\"dataframe\">\n",
       "  <thead>\n",
       "    <tr style=\"text-align: right;\">\n",
       "      <th></th>\n",
       "      <th>pickup_datetime</th>\n",
       "      <th>dropoff_datetime</th>\n",
       "      <th>pickup_longitude</th>\n",
       "      <th>pickup_latitude</th>\n",
       "      <th>dropoff_longitude</th>\n",
       "      <th>dropoff_latitude</th>\n",
       "      <th>passenger_count</th>\n",
       "      <th>trip_distance</th>\n",
       "      <th>total_amount</th>\n",
       "    </tr>\n",
       "  </thead>\n",
       "  <tbody>\n",
       "    <tr>\n",
       "      <th>7974054</th>\n",
       "      <td>2015-05-30 23:32:23</td>\n",
       "      <td>2015-05-30 23:55:59</td>\n",
       "      <td>0.000000</td>\n",
       "      <td>0.000000</td>\n",
       "      <td>0.000000</td>\n",
       "      <td>0.000000</td>\n",
       "      <td>2</td>\n",
       "      <td>4.40</td>\n",
       "      <td>22.80</td>\n",
       "    </tr>\n",
       "    <tr>\n",
       "      <th>7974055</th>\n",
       "      <td>2015-06-27 19:00:44</td>\n",
       "      <td>2015-06-27 19:03:34</td>\n",
       "      <td>-73.965103</td>\n",
       "      <td>40.806580</td>\n",
       "      <td>-73.970108</td>\n",
       "      <td>40.797161</td>\n",
       "      <td>1</td>\n",
       "      <td>0.64</td>\n",
       "      <td>5.30</td>\n",
       "    </tr>\n",
       "    <tr>\n",
       "      <th>7974056</th>\n",
       "      <td>2015-06-21 17:59:31</td>\n",
       "      <td>2015-06-21 18:05:26</td>\n",
       "      <td>-73.996666</td>\n",
       "      <td>40.756790</td>\n",
       "      <td>-73.992065</td>\n",
       "      <td>40.747990</td>\n",
       "      <td>5</td>\n",
       "      <td>0.93</td>\n",
       "      <td>8.16</td>\n",
       "    </tr>\n",
       "    <tr>\n",
       "      <th>7974057</th>\n",
       "      <td>2015-04-10 19:28:54</td>\n",
       "      <td>2015-04-10 19:36:16</td>\n",
       "      <td>-73.982079</td>\n",
       "      <td>40.775158</td>\n",
       "      <td>-73.965836</td>\n",
       "      <td>40.800442</td>\n",
       "      <td>6</td>\n",
       "      <td>1.98</td>\n",
       "      <td>11.76</td>\n",
       "    </tr>\n",
       "    <tr>\n",
       "      <th>7974058</th>\n",
       "      <td>2015-05-01 12:23:31</td>\n",
       "      <td>2015-05-01 12:30:06</td>\n",
       "      <td>-73.964752</td>\n",
       "      <td>40.759098</td>\n",
       "      <td>-73.974251</td>\n",
       "      <td>40.763218</td>\n",
       "      <td>1</td>\n",
       "      <td>0.60</td>\n",
       "      <td>8.16</td>\n",
       "    </tr>\n",
       "  </tbody>\n",
       "</table>\n",
       "</div>"
      ],
      "text/plain": [
       "             pickup_datetime     dropoff_datetime  pickup_longitude  \\\n",
       "7974054  2015-05-30 23:32:23  2015-05-30 23:55:59          0.000000   \n",
       "7974055  2015-06-27 19:00:44  2015-06-27 19:03:34        -73.965103   \n",
       "7974056  2015-06-21 17:59:31  2015-06-21 18:05:26        -73.996666   \n",
       "7974057  2015-04-10 19:28:54  2015-04-10 19:36:16        -73.982079   \n",
       "7974058  2015-05-01 12:23:31  2015-05-01 12:30:06        -73.964752   \n",
       "\n",
       "         pickup_latitude  dropoff_longitude  dropoff_latitude  \\\n",
       "7974054         0.000000           0.000000          0.000000   \n",
       "7974055        40.806580         -73.970108         40.797161   \n",
       "7974056        40.756790         -73.992065         40.747990   \n",
       "7974057        40.775158         -73.965836         40.800442   \n",
       "7974058        40.759098         -73.974251         40.763218   \n",
       "\n",
       "         passenger_count  trip_distance  total_amount  \n",
       "7974054                2           4.40         22.80  \n",
       "7974055                1           0.64          5.30  \n",
       "7974056                5           0.93          8.16  \n",
       "7974057                6           1.98         11.76  \n",
       "7974058                1           0.60          8.16  "
      ]
     },
     "execution_count": 33,
     "metadata": {},
     "output_type": "execute_result"
    }
   ],
   "source": [
    "yellow.tail()"
   ]
  },
  {
   "cell_type": "code",
   "execution_count": 32,
   "metadata": {},
   "outputs": [
    {
     "name": "stdout",
     "output_type": "stream",
     "text": [
      "<class 'pandas.core.frame.DataFrame'>\n",
      "RangeIndex: 7974059 entries, 0 to 7974058\n",
      "Data columns (total 9 columns):\n",
      "pickup_datetime      object\n",
      "dropoff_datetime     object\n",
      "pickup_longitude     float64\n",
      "pickup_latitude      float64\n",
      "dropoff_longitude    float64\n",
      "dropoff_latitude     float64\n",
      "passenger_count      int64\n",
      "trip_distance        float64\n",
      "total_amount         float64\n",
      "dtypes: float64(6), int64(1), object(2)\n",
      "memory usage: 547.5+ MB\n"
     ]
    }
   ],
   "source": [
    "yellow.info()"
   ]
  },
  {
   "cell_type": "code",
   "execution_count": 40,
   "metadata": {},
   "outputs": [],
   "source": [
    "yellow.pickup_datetime = pd.to_datetime(yellow.pickup_datetime, format='%Y-%m-%d')"
   ]
  },
  {
   "cell_type": "code",
   "execution_count": 41,
   "metadata": {},
   "outputs": [
    {
     "data": {
      "text/plain": [
       "4118754"
      ]
     },
     "execution_count": 41,
     "metadata": {},
     "output_type": "execute_result"
    }
   ],
   "source": [
    "len(yellow[yellow.pickup_datetime.dt.year == 2014])"
   ]
  }
 ],
 "metadata": {
  "kernelspec": {
   "display_name": "ds4a",
   "language": "python",
   "name": "ds4a"
  },
  "language_info": {
   "codemirror_mode": {
    "name": "ipython",
    "version": 3
   },
   "file_extension": ".py",
   "mimetype": "text/x-python",
   "name": "python",
   "nbconvert_exporter": "python",
   "pygments_lexer": "ipython3",
   "version": "3.7.3"
  }
 },
 "nbformat": 4,
 "nbformat_minor": 2
}
